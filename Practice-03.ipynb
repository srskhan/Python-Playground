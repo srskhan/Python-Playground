{
 "cells": [
  {
   "cell_type": "code",
   "execution_count": 7,
   "id": "9c3ce1f9",
   "metadata": {},
   "outputs": [
    {
     "name": "stdout",
     "output_type": "stream",
     "text": [
      "4\n"
     ]
    }
   ],
   "source": [
    "count=0\n",
    "b= \"Electronics Telecommunication\"\n",
    "for c in b:\n",
    "    if c.lower()=='e':\n",
    "        count+=1\n",
    "print(count)"
   ]
  },
  {
   "cell_type": "code",
   "execution_count": 25,
   "id": "882d148b",
   "metadata": {},
   "outputs": [
    {
     "name": "stdout",
     "output_type": "stream",
     "text": [
      "Enter grade: .9\n",
      "A\n"
     ]
    }
   ],
   "source": [
    "g=input(\"Enter grade: \")\n",
    "\n",
    "try:\n",
    "    grade=float(g)\n",
    "    if grade<=1 and grade>=.9:\n",
    "        print(\"A\")\n",
    "    elif grade<.9 and grade>=.8:\n",
    "        print(\"B\")\n",
    "    elif grade<.8 and grade>=.7:\n",
    "        print(\"C\")\n",
    "    elif grade<.7 and grade>=.6:\n",
    "        print(\"D\")\n",
    "    elif grade<.6 and grade>=0:\n",
    "        print(\"F\")\n",
    "    else:\n",
    "        print(\"Bad data\")\n",
    "except:\n",
    "    print(\"Bad data\")\n"
   ]
  },
  {
   "cell_type": "code",
   "execution_count": 6,
   "id": "ad7fffc0",
   "metadata": {},
   "outputs": [
    {
     "name": "stdout",
     "output_type": "stream",
     "text": [
      "21\n",
      "31\n",
      "uct.ac.za\n"
     ]
    }
   ],
   "source": [
    "data = \"From stephen.marquard@uct.ac.za Sat Jan 5 09:14:16 2008\"\n",
    "atpos = data.find('@')\n",
    "print(atpos)\n",
    "sppos = data.find(' ',atpos)\n",
    "print(sppos)\n",
    "host = data[atpos+1:sppos]\n",
    "print(host)"
   ]
  },
  {
   "cell_type": "code",
   "execution_count": 27,
   "id": "086732ca",
   "metadata": {},
   "outputs": [
    {
     "data": {
      "text/plain": [
       "'Jan'"
      ]
     },
     "execution_count": 27,
     "metadata": {},
     "output_type": "execute_result"
    }
   ],
   "source": [
    "data = \"From stephen.marquard@uct.ac.za Sat Jan 5 09:14:16 2008\"\n",
    "month = data.split(' ')\n",
    "month[3]"
   ]
  },
  {
   "cell_type": "code",
   "execution_count": 22,
   "id": "938a0535",
   "metadata": {},
   "outputs": [
    {
     "data": {
      "text/plain": [
       "'09:14:16'"
      ]
     },
     "execution_count": 22,
     "metadata": {},
     "output_type": "execute_result"
    }
   ],
   "source": [
    "time= data.split(' ')\n",
    "t=time[5]\n",
    "t"
   ]
  },
  {
   "cell_type": "code",
   "execution_count": 24,
   "id": "863d213c",
   "metadata": {},
   "outputs": [
    {
     "data": {
      "text/plain": [
       "['09', '14', '16']"
      ]
     },
     "execution_count": 24,
     "metadata": {},
     "output_type": "execute_result"
    }
   ],
   "source": [
    "minute=t.split(':')\n",
    "minute"
   ]
  },
  {
   "cell_type": "code",
   "execution_count": 25,
   "id": "f4b39cf9",
   "metadata": {},
   "outputs": [
    {
     "data": {
      "text/plain": [
       "'14'"
      ]
     },
     "execution_count": 25,
     "metadata": {},
     "output_type": "execute_result"
    }
   ],
   "source": [
    "minute[1]"
   ]
  },
  {
   "cell_type": "code",
   "execution_count": 36,
   "id": "813678e8",
   "metadata": {},
   "outputs": [
    {
     "data": {
      "text/plain": [
       "['X-DSPAM-Confidence', '0.8475']"
      ]
     },
     "execution_count": 36,
     "metadata": {},
     "output_type": "execute_result"
    }
   ],
   "source": [
    "str = 'X-DSPAM-Confidence:0.8475'\n",
    "a=str.split(':')\n",
    "a"
   ]
  },
  {
   "cell_type": "code",
   "execution_count": 41,
   "id": "6169e03e",
   "metadata": {},
   "outputs": [
    {
     "name": "stdout",
     "output_type": "stream",
     "text": [
      "0.8475\n"
     ]
    },
    {
     "data": {
      "text/plain": [
       "str"
      ]
     },
     "execution_count": 41,
     "metadata": {},
     "output_type": "execute_result"
    }
   ],
   "source": [
    "b=a[1]\n",
    "print(b)\n",
    "type(b)"
   ]
  },
  {
   "cell_type": "code",
   "execution_count": 43,
   "id": "d864aae2",
   "metadata": {},
   "outputs": [
    {
     "name": "stdout",
     "output_type": "stream",
     "text": [
      "0.8475\n"
     ]
    },
    {
     "data": {
      "text/plain": [
       "float"
      ]
     },
     "execution_count": 43,
     "metadata": {},
     "output_type": "execute_result"
    }
   ],
   "source": [
    "f_value=float(b)\n",
    "print(f_value)\n",
    "type(f_value)"
   ]
  },
  {
   "cell_type": "code",
   "execution_count": 29,
   "id": "bbaf68b0",
   "metadata": {},
   "outputs": [
    {
     "data": {
      "text/plain": [
       "18"
      ]
     },
     "execution_count": 29,
     "metadata": {},
     "output_type": "execute_result"
    }
   ],
   "source": [
    "str = 'X-DSPAM-Confidence:0.8475'\n",
    "col_pos= str.find(':')\n",
    "col_pos"
   ]
  },
  {
   "cell_type": "code",
   "execution_count": 44,
   "id": "850f89ff",
   "metadata": {},
   "outputs": [
    {
     "name": "stdout",
     "output_type": "stream",
     "text": [
      "0.8475\n"
     ]
    },
    {
     "data": {
      "text/plain": [
       "str"
      ]
     },
     "execution_count": 44,
     "metadata": {},
     "output_type": "execute_result"
    }
   ],
   "source": [
    "value=str[col_pos+1:]\n",
    "print(value)\n",
    "type(value)"
   ]
  },
  {
   "cell_type": "code",
   "execution_count": 45,
   "id": "c4e6d6de",
   "metadata": {},
   "outputs": [
    {
     "name": "stdout",
     "output_type": "stream",
     "text": [
      "0.8475\n"
     ]
    },
    {
     "data": {
      "text/plain": [
       "float"
      ]
     },
     "execution_count": 45,
     "metadata": {},
     "output_type": "execute_result"
    }
   ],
   "source": [
    "float_value= float(value)\n",
    "print(float_value)\n",
    "type(float_value)"
   ]
  },
  {
   "cell_type": "code",
   "execution_count": null,
   "id": "2a197795",
   "metadata": {},
   "outputs": [],
   "source": []
  }
 ],
 "metadata": {
  "kernelspec": {
   "display_name": "Python 3 (ipykernel)",
   "language": "python",
   "name": "python3"
  },
  "language_info": {
   "codemirror_mode": {
    "name": "ipython",
    "version": 3
   },
   "file_extension": ".py",
   "mimetype": "text/x-python",
   "name": "python",
   "nbconvert_exporter": "python",
   "pygments_lexer": "ipython3",
   "version": "3.9.12"
  },
  "varInspector": {
   "cols": {
    "lenName": 16,
    "lenType": 16,
    "lenVar": 40
   },
   "kernels_config": {
    "python": {
     "delete_cmd_postfix": "",
     "delete_cmd_prefix": "del ",
     "library": "var_list.py",
     "varRefreshCmd": "print(var_dic_list())"
    },
    "r": {
     "delete_cmd_postfix": ") ",
     "delete_cmd_prefix": "rm(",
     "library": "var_list.r",
     "varRefreshCmd": "cat(var_dic_list()) "
    }
   },
   "types_to_exclude": [
    "module",
    "function",
    "builtin_function_or_method",
    "instance",
    "_Feature"
   ],
   "window_display": false
  }
 },
 "nbformat": 4,
 "nbformat_minor": 5
}
