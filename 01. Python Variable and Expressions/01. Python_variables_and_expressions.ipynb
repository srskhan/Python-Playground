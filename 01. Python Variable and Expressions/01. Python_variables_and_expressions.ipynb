{
 "cells": [
  {
   "cell_type": "markdown",
   "id": "1658a5f3",
   "metadata": {},
   "source": [
    "1.Write a program that uses input to prompt a user for their name and then welcomes them.\n",
    "\n",
    "         Enter your name: Shakib\n",
    "         Hello Shakib"
   ]
  },
  {
   "cell_type": "code",
   "execution_count": 1,
   "id": "ed164e18",
   "metadata": {},
   "outputs": [
    {
     "name": "stdout",
     "output_type": "stream",
     "text": [
      "Enter your name: Shakib\n",
      "Hello,Shakib.\n"
     ]
    }
   ],
   "source": [
    "#using f-string method\n",
    "name=input(\"Enter your name: \")\n",
    "print(f\"Hello,{name}.\")"
   ]
  },
  {
   "cell_type": "code",
   "execution_count": 2,
   "id": "b90bf67b",
   "metadata": {},
   "outputs": [
    {
     "name": "stdout",
     "output_type": "stream",
     "text": [
      "Enter your name: Shakib\n",
      "Hello Shakib.\n"
     ]
    }
   ],
   "source": [
    "#using str.format() method\n",
    "name=input(\"Enter your name: \")\n",
    "print(\"Hello {}.\".format(name))"
   ]
  },
  {
   "cell_type": "code",
   "execution_count": 3,
   "id": "7910296d",
   "metadata": {},
   "outputs": [
    {
     "name": "stdout",
     "output_type": "stream",
     "text": [
      "Enter your name: Shakib\n",
      "Hello Shakib\n"
     ]
    }
   ],
   "source": [
    "#using function\n",
    "name=input(\"Enter your name: \")\n",
    "\n",
    "def print_name(name):\n",
    "    return \"Hello %s\" %name\n",
    "print(print_name(name))"
   ]
  },
  {
   "cell_type": "markdown",
   "id": "0c5065b4",
   "metadata": {},
   "source": [
    "2.Write a program to prompt the user for hours and rate per hour to compute gross pay.\n",
    "\n",
    "     Enter Hours: 35\n",
    "     Enter Rate: 2.75\n",
    "     Pay : 96.25"
   ]
  },
  {
   "cell_type": "code",
   "execution_count": 7,
   "id": "bd4bee56",
   "metadata": {},
   "outputs": [
    {
     "name": "stdout",
     "output_type": "stream",
     "text": [
      "Enter hours: 35\n",
      "Enter rate: 2.75\n",
      "Pay: 96.25\n"
     ]
    }
   ],
   "source": [
    "#using f-string method\n",
    "hours=int(input(\"Enter hours: \"))\n",
    "rate=float(input(\"Enter rate: \"))\n",
    "print(f\"Pay: {hours*rate}\")"
   ]
  },
  {
   "cell_type": "code",
   "execution_count": 9,
   "id": "945597d5",
   "metadata": {},
   "outputs": [
    {
     "name": "stdout",
     "output_type": "stream",
     "text": [
      "Enter hours: 35\n",
      "Enter rate: 2.75\n",
      "Pay: 96.25\n"
     ]
    }
   ],
   "source": [
    "#using str.format() method\n",
    "hours=int(input(\"Enter hours: \"))\n",
    "rate=float(input(\"Enter rate: \"))\n",
    "print(\"Pay: {}\".format(hours*rate))"
   ]
  },
  {
   "cell_type": "code",
   "execution_count": 12,
   "id": "0438abff",
   "metadata": {},
   "outputs": [
    {
     "name": "stdout",
     "output_type": "stream",
     "text": [
      "Enter hours: 35\n",
      "Enter rate: 2.75\n",
      "Pay: 96.25\n"
     ]
    }
   ],
   "source": [
    "#using lambda function\n",
    "hours=int(input(\"Enter hours: \"))\n",
    "rate=float(input(\"Enter rate: \"))\n",
    "gross_pay= lambda hours,rate: hours*rate\n",
    "print(f\"Pay: {gross_pay(hours,rate)}\")"
   ]
  },
  {
   "cell_type": "markdown",
   "id": "1a632675",
   "metadata": {},
   "source": [
    "3. Write a program which prompts the user for a Celsius temperature, convert the temperature to Fahrenheit, and print out the converted temperature.\n",
    "\n",
    "          Enter Tempatature in Celsius: 35\n",
    "          Temparature in Farenheit: ???"
   ]
  },
  {
   "cell_type": "code",
   "execution_count": 13,
   "id": "730f06a8",
   "metadata": {},
   "outputs": [
    {
     "name": "stdout",
     "output_type": "stream",
     "text": [
      "Enter Temperature in Celsius: 35\n",
      "95.0\n"
     ]
    }
   ],
   "source": [
    "C_temp= float(input(\"Enter Temperature in Celsius: \"))\n",
    "F_temp= (C_temp * 1.8) + 32\n",
    "print(F_temp)"
   ]
  },
  {
   "cell_type": "code",
   "execution_count": 14,
   "id": "912c1051",
   "metadata": {},
   "outputs": [
    {
     "name": "stdout",
     "output_type": "stream",
     "text": [
      "Enter Temperature in Celsius: 35\n",
      "95.0\n"
     ]
    }
   ],
   "source": [
    "#using function\n",
    "C_temp= float(input(\"Enter Temperature in Celsius: \"))\n",
    "def converter(C_temp):\n",
    "    return C_temp * 1.8 + 32\n",
    "print(converter(C_temp))"
   ]
  },
  {
   "cell_type": "markdown",
   "id": "9b4b7bd0",
   "metadata": {},
   "source": [
    "4. Write a program which prompts the user for the height and width of a rectangle, calculate the area, diagonal, and perimeter.\n",
    "       Enter Height: 5\n",
    "       Enter Width:  7\n",
    "       Area :  ??\n",
    "       Diagonal: ??\n",
    "       Perimeter: ??"
   ]
  },
  {
   "cell_type": "code",
   "execution_count": 25,
   "id": "2ff089c6",
   "metadata": {},
   "outputs": [
    {
     "name": "stdout",
     "output_type": "stream",
     "text": [
      "Enter Height: 5\n",
      "Enter Width: 7\n",
      "Area: 35.0\n",
      "Diagonal: 8.60\n",
      "Perimeter: 70.0\n"
     ]
    }
   ],
   "source": [
    "from math import sqrt\n",
    "\n",
    "height=float(input(\"Enter Height: \"))\n",
    "width= float(input(\"Enter Width: \"))\n",
    "\n",
    "area=height*width\n",
    "diagonal=sqrt(height**2+width**2)\n",
    "perimeter= 2*(height*width)\n",
    "\n",
    "print(f'Area: {area}')\n",
    "print(f'Diagonal: {diagonal:.2f}')\n",
    "print(f'Perimeter: {perimeter}')"
   ]
  },
  {
   "cell_type": "code",
   "execution_count": 28,
   "id": "cbd90e79",
   "metadata": {},
   "outputs": [
    {
     "name": "stdout",
     "output_type": "stream",
     "text": [
      "Enter Height: 5\n",
      "Enter Width: 7\n",
      "Area: 35.0\n",
      "Diagonal: 8.60\n",
      "Perimeter: 70.0\n"
     ]
    }
   ],
   "source": [
    "#another way\n",
    "import math\n",
    "height=float(input(\"Enter Height: \"))\n",
    "width= float(input(\"Enter Width: \"))\n",
    "\n",
    "print(f'Area: {height*width}')\n",
    "print(f'Diagonal: {math.sqrt(height**2+width**2):.2f}')\n",
    "print(f'Perimeter: {2*(height*width)}')"
   ]
  },
  {
   "cell_type": "markdown",
   "id": "16008a75",
   "metadata": {},
   "source": [
    "5. Write a Python program to calculate the area of a trapezoid.\n",
    "          Enter Height: 5\n",
    "          Enter base 1 value:  18\n",
    "          Enter base 2 value:  7\n",
    "          Area :  ??       "
   ]
  },
  {
   "cell_type": "code",
   "execution_count": 30,
   "id": "4c315856",
   "metadata": {},
   "outputs": [
    {
     "name": "stdout",
     "output_type": "stream",
     "text": [
      "Enter Height: 5\n",
      "Enter base 1 value: 18\n",
      "Enter base 2 value: 7\n",
      "Area: 62.5\n"
     ]
    }
   ],
   "source": [
    "h=float(input(\"Enter Height: \"))\n",
    "a=float(input(\"Enter base 1 value: \"))\n",
    "b=float(input(\"Enter base 2 value: \"))\n",
    "\n",
    "print(\"Area: {}\".format((a+b)*h/2))"
   ]
  },
  {
   "cell_type": "markdown",
   "id": "946132a3",
   "metadata": {},
   "source": [
    "6. Write a Python program to calculate surface volume and area of a cylinder.\n",
    "          Enter Height: 5\n",
    "          Enter radius:  10\n",
    "          Volume: ??\n",
    "          Area :  ??   "
   ]
  },
  {
   "cell_type": "code",
   "execution_count": 33,
   "id": "086daa6e",
   "metadata": {},
   "outputs": [
    {
     "name": "stdout",
     "output_type": "stream",
     "text": [
      "Enter Height: 5\n",
      "Enter radius: 10\n",
      "Volume: 1570.80\n",
      "Area: 942.48\n"
     ]
    }
   ],
   "source": [
    "from math import pi\n",
    "h=float(input(\"Enter Height: \"))\n",
    "r=float(input(\"Enter radius: \"))\n",
    "\n",
    "volume= pi*(r**2)*h\n",
    "area= 2*pi*r*(r+h)\n",
    "\n",
    "print(f\"Volume: {volume:.2f}\")\n",
    "print(f\"Area: {area:.2f}\")"
   ]
  },
  {
   "cell_type": "markdown",
   "id": "685679e1",
   "metadata": {},
   "source": [
    "7. Write a Python program to calculate arc length of an angle and sector area of a circle.\n",
    "          Enter Radius: 5\n",
    "          Enter Angle:  60\n",
    "          Arc Length: ??\n",
    "          Sector Area:  ??        "
   ]
  },
  {
   "cell_type": "code",
   "execution_count": 34,
   "id": "5cbbefe0",
   "metadata": {},
   "outputs": [
    {
     "name": "stdout",
     "output_type": "stream",
     "text": [
      "Enter Radius: 5\n",
      "Enter Angle: 60\n",
      "Arc Lenght: 300.0\n",
      "Sector Area: 750.0\n"
     ]
    }
   ],
   "source": [
    "r= float(input(\"Enter Radius: \"))\n",
    "theta= float(input(\"Enter Angle: \"))\n",
    "\n",
    "arc_length= r* theta\n",
    "sector_area= (theta/2)*r**2\n",
    "\n",
    "print(f\"Arc Lenght: {arc_length}\")\n",
    "print(f\"Sector Area: {sector_area}\")"
   ]
  }
 ],
 "metadata": {
  "kernelspec": {
   "display_name": "Python 3 (ipykernel)",
   "language": "python",
   "name": "python3"
  },
  "language_info": {
   "codemirror_mode": {
    "name": "ipython",
    "version": 3
   },
   "file_extension": ".py",
   "mimetype": "text/x-python",
   "name": "python",
   "nbconvert_exporter": "python",
   "pygments_lexer": "ipython3",
   "version": "3.9.12"
  },
  "varInspector": {
   "cols": {
    "lenName": 16,
    "lenType": 16,
    "lenVar": 40
   },
   "kernels_config": {
    "python": {
     "delete_cmd_postfix": "",
     "delete_cmd_prefix": "del ",
     "library": "var_list.py",
     "varRefreshCmd": "print(var_dic_list())"
    },
    "r": {
     "delete_cmd_postfix": ") ",
     "delete_cmd_prefix": "rm(",
     "library": "var_list.r",
     "varRefreshCmd": "cat(var_dic_list()) "
    }
   },
   "types_to_exclude": [
    "module",
    "function",
    "builtin_function_or_method",
    "instance",
    "_Feature"
   ],
   "window_display": false
  }
 },
 "nbformat": 4,
 "nbformat_minor": 5
}
