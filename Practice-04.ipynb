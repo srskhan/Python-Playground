{
 "cells": [
  {
   "cell_type": "code",
   "execution_count": 1,
   "id": "31d91210",
   "metadata": {},
   "outputs": [
    {
     "name": "stdout",
     "output_type": "stream",
     "text": [
      "{'one': 'uno', 'two': 'dos'}\n"
     ]
    }
   ],
   "source": [
    "eng2sp = dict()\n",
    "eng2sp['one'] = 'uno'\n",
    "eng2sp['two'] = 'dos'\n",
    "print(eng2sp)"
   ]
  },
  {
   "cell_type": "code",
   "execution_count": 3,
   "id": "3b9c8545",
   "metadata": {},
   "outputs": [
    {
     "name": "stdout",
     "output_type": "stream",
     "text": [
      "{'one': 'uno', 'two': 'dos'}\n"
     ]
    }
   ],
   "source": [
    "d= {'one':'uno','two':'dos'}\n",
    "print(d)"
   ]
  },
  {
   "cell_type": "code",
   "execution_count": 8,
   "id": "57b298ff",
   "metadata": {},
   "outputs": [
    {
     "name": "stdout",
     "output_type": "stream",
     "text": [
      "dos\n"
     ]
    }
   ],
   "source": [
    "print(d['two'])"
   ]
  },
  {
   "cell_type": "code",
   "execution_count": 13,
   "id": "d1eab709",
   "metadata": {},
   "outputs": [
    {
     "name": "stdout",
     "output_type": "stream",
     "text": [
      "['uno', 'dos']\n"
     ]
    }
   ],
   "source": [
    "e=list(d.values())\n",
    "print(e)"
   ]
  },
  {
   "cell_type": "code",
   "execution_count": 17,
   "id": "03004d5a",
   "metadata": {},
   "outputs": [
    {
     "name": "stdout",
     "output_type": "stream",
     "text": [
      "{'S': 1, 'a': 3, 'd': 1, 'u': 4, 'k': 1, 'F': 1, 't': 1}\n"
     ]
    }
   ],
   "source": [
    "word= 'SadukaFatuuu'\n",
    "d=dict()\n",
    "for c in word:\n",
    "    if c not in d:\n",
    "        d[c]=1\n",
    "    else:\n",
    "        d[c]=d[c] + 1\n",
    "print(d)"
   ]
  },
  {
   "cell_type": "code",
   "execution_count": 21,
   "id": "9045da94",
   "metadata": {},
   "outputs": [
    {
     "name": "stdout",
     "output_type": "stream",
     "text": [
      "100\n",
      "0\n"
     ]
    }
   ],
   "source": [
    "counts = { 'liza' : 1 , 'annie' : 42, 'jan': 100}\n",
    "print(counts.get('jan', 0))\n",
    "print(counts.get('tim',0))\n"
   ]
  },
  {
   "cell_type": "code",
   "execution_count": 22,
   "id": "18e5d90f",
   "metadata": {},
   "outputs": [
    {
     "name": "stdout",
     "output_type": "stream",
     "text": [
      "{'S': 1, 'a': 3, 'd': 1, 'u': 4, 'k': 1, 'F': 1, 't': 1}\n"
     ]
    }
   ],
   "source": [
    "word= 'SadukaFatuuu'\n",
    "d=dict()\n",
    "for c in word:\n",
    "    d[c]=d.get(c,0)+1\n",
    "print(d)"
   ]
  },
  {
   "cell_type": "code",
   "execution_count": 2,
   "id": "45a544dd",
   "metadata": {},
   "outputs": [
    {
     "name": "stdout",
     "output_type": "stream",
     "text": [
      "--2023-03-30 11:11:02--  https://www.py4e.com/code3/romeo.txt\n",
      "Resolving www.py4e.com (www.py4e.com)... 172.67.133.177, 104.21.5.179\n",
      "Connecting to www.py4e.com (www.py4e.com)|172.67.133.177|:443... connected.\n",
      "HTTP request sent, awaiting response... 200 OK\n",
      "Length: unspecified [text/plain]\n",
      "Saving to: ‘romeo.txt.2’\n",
      "\n",
      "romeo.txt.2             [ <=>                ]     167  --.-KB/s    in 0s      \n",
      "\n",
      "2023-03-30 11:11:03 (159 MB/s) - ‘romeo.txt.2’ saved [167]\n",
      "\n"
     ]
    }
   ],
   "source": [
    "\n",
    "\n",
    "!wget https://www.py4e.com/code3/romeo.txt"
   ]
  },
  {
   "cell_type": "code",
   "execution_count": 3,
   "id": "cde009cf",
   "metadata": {},
   "outputs": [
    {
     "name": "stdout",
     "output_type": "stream",
     "text": [
      "--2023-03-30 11:11:08--  https://www.py4e.com/code3/romeo-full.txt\n",
      "Resolving www.py4e.com (www.py4e.com)... 172.67.133.177, 104.21.5.179\n",
      "Connecting to www.py4e.com (www.py4e.com)|172.67.133.177|:443... connected.\n",
      "HTTP request sent, awaiting response... 200 OK\n",
      "Length: unspecified [text/plain]\n",
      "Saving to: ‘romeo-full.txt.1’\n",
      "\n",
      "romeo-full.txt.1        [ <=>                ]   8.66K  --.-KB/s    in 0.001s  \n",
      "\n",
      "2023-03-30 11:11:09 (14.5 MB/s) - ‘romeo-full.txt.1’ saved [8864]\n",
      "\n"
     ]
    }
   ],
   "source": [
    "\n",
    "!wget https://www.py4e.com/code3/romeo-full.txt"
   ]
  },
  {
   "cell_type": "code",
   "execution_count": 30,
   "id": "e7bba1f0",
   "metadata": {},
   "outputs": [
    {
     "name": "stdout",
     "output_type": "stream",
     "text": [
      "{'Romeo': 4, 'and': 22, 'Juliet': 2, 'Act': 1, '2,': 1, 'Scene': 1, '2': 1, 'SCENE': 1, 'II.': 1, \"Capulet's\": 1, 'orchard.': 1, 'Enter': 1, 'ROMEO': 27, 'He': 2, 'jests': 1, 'at': 7, 'scars': 1, 'that': 23, 'never': 2, 'felt': 1, 'a': 22, 'wound.': 1, 'JULIET': 28, 'appears': 1, 'above': 6, 'window': 2, 'But,': 1, 'soft!': 1, 'what': 6, 'light': 3, 'through': 2, 'yonder': 2, 'breaks?': 1, 'It': 4, 'is': 21, 'the': 30, 'east,': 1, 'sun.': 1, 'Arise,': 1, 'fair': 4, 'sun,': 1, 'kill': 2, 'envious': 1, 'moon,': 3, 'Who': 2, 'already': 1, 'sick': 2, 'pale': 1, 'with': 6, 'grief,': 1, 'That': 6, 'thou': 29, 'her': 12, 'maid': 1, 'art': 5, 'far': 2, 'more': 8, 'than': 3, 'she:': 1, 'Be': 1, 'not': 17, 'maid,': 1, 'since': 1, 'she': 6, 'envious;': 1, 'Her': 2, 'vestal': 1, 'livery': 1, 'but': 13, 'green': 1, 'And': 20, 'none': 1, 'fools': 1, 'do': 6, 'wear': 1, 'it;': 1, 'cast': 1, 'it': 12, 'off.': 1, 'my': 22, 'lady,': 1, 'O,': 8, 'love!': 1, 'knew': 1, 'were!': 1, 'She': 2, 'speaks': 1, 'yet': 7, 'says': 1, 'nothing:': 1, 'of': 18, 'that?': 1, 'eye': 2, 'discourses;': 1, 'I': 60, 'will': 8, 'answer': 1, 'it.': 2, 'am': 6, 'too': 6, 'bold,': 1, \"'tis\": 2, 'to': 31, 'me': 11, 'speaks:': 2, 'Two': 1, 'fairest': 1, 'stars': 1, 'in': 12, 'all': 5, 'heaven,': 1, 'Having': 1, 'some': 3, 'business,': 1, 'entreat': 1, 'eyes': 4, 'To': 3, 'twinkle': 1, 'their': 6, 'spheres': 1, 'till': 4, 'they': 5, 'return.': 1, 'What': 5, 'if': 7, 'were': 8, 'there,': 2, 'head?': 1, 'The': 4, 'brightness': 1, 'cheek': 3, 'would': 13, 'shame': 1, 'those': 2, 'stars,': 1, 'As': 4, 'daylight': 1, 'doth': 2, 'lamp;': 1, 'heaven': 2, 'Would': 2, 'airy': 2, 'region': 1, 'stream': 1, 'so': 5, 'bright': 2, 'birds': 1, 'sing': 1, 'think': 2, 'night.': 1, 'See,': 1, 'how': 3, 'leans': 1, 'upon': 5, 'hand!': 1, 'glove': 1, 'hand,': 3, 'might': 1, 'touch': 1, 'cheek!': 1, 'Ay': 1, 'me!': 1, 'speak': 4, 'again,': 2, 'angel!': 1, 'for': 10, 'glorious': 1, 'this': 6, 'night,': 5, 'being': 1, \"o'er\": 1, 'head': 1, 'winged': 1, 'messenger': 1, 'Unto': 1, 'white-upturned': 1, 'wondering': 1, 'Of': 2, 'mortals': 1, 'fall': 1, 'back': 3, 'gaze': 1, 'on': 4, 'him': 2, 'When': 1, 'he': 3, 'bestrides': 1, 'lazy-pacing': 1, 'clouds': 1, 'sails': 1, 'bosom': 1, 'air.': 1, 'O': 3, 'Romeo,': 5, 'Romeo!': 2, 'wherefore': 1, 'Romeo?': 1, 'Deny': 1, 'thy': 19, 'father': 1, 'refuse': 1, 'name;': 1, 'Or,': 2, 'wilt': 5, 'not,': 1, 'be': 13, 'sworn': 1, 'love,': 9, \"I'll\": 8, 'no': 6, 'longer': 1, 'Capulet.': 1, '[Aside]': 1, 'Shall': 2, 'hear': 2, 'more,': 1, 'or': 1, 'shall': 4, 'this?': 1, \"'Tis\": 2, 'name': 4, 'enemy;': 1, 'Thou': 3, 'thyself,': 1, 'though': 1, 'Montague.': 1, \"What's\": 2, 'Montague?': 2, 'nor': 4, 'foot,': 1, 'Nor': 1, 'arm,': 1, 'face,': 2, 'any': 4, 'other': 4, 'part': 2, 'Belonging': 1, 'man.': 1, 'name!': 1, 'name?': 1, 'which': 5, 'we': 2, 'call': 2, 'rose': 1, 'By': 6, 'smell': 1, 'as': 8, 'sweet;': 1, 'So': 5, 'would,': 1, \"call'd,\": 1, 'Retain': 1, 'dear': 6, 'perfection': 1, 'owes': 1, 'Without': 1, 'title.': 1, 'doff': 1, 'name,': 2, 'thee': 15, 'Take': 1, 'myself.': 1, 'take': 2, 'word:': 2, 'Call': 1, 'new': 1, 'baptized;': 1, 'Henceforth': 1, 'Romeo.': 1, 'man': 1, 'thus': 1, \"bescreen'd\": 1, 'night': 5, 'stumblest': 1, 'counsel?': 1, 'know': 3, 'tell': 2, 'who': 3, 'am:': 1, 'My': 7, 'saint,': 2, 'hateful': 1, 'myself,': 1, 'Because': 1, 'an': 2, 'enemy': 1, 'thee;': 1, 'Had': 1, 'written,': 1, 'tear': 2, 'word.': 1, 'ears': 1, 'have': 11, 'drunk': 1, 'hundred': 1, 'words': 1, \"tongue's\": 1, 'utterance,': 1, 'sound:': 1, 'Art': 1, 'Neither,': 1, 'either': 1, 'dislike.': 1, 'How': 2, 'camest': 1, 'hither,': 1, 'me,': 4, 'wherefore?': 1, 'orchard': 1, 'walls': 1, 'are': 3, 'high': 1, 'hard': 1, 'climb,': 1, 'place': 1, 'death,': 1, 'considering': 1, 'art,': 1, 'If': 5, 'kinsmen': 2, 'find': 2, 'here.': 2, 'With': 2, \"love's\": 3, 'wings': 1, 'did': 3, \"o'er-perch\": 1, 'these': 2, 'walls;': 1, 'For': 2, 'stony': 1, 'limits': 1, 'cannot': 1, 'hold': 1, 'love': 10, 'out,': 1, 'can': 2, 'dares': 1, 'attempt;': 1, 'Therefore': 1, 'let': 2, 'me.': 1, 'see': 1, 'thee,': 4, 'murder': 1, 'thee.': 2, 'Alack,': 1, 'there': 1, 'lies': 1, 'peril': 1, 'thine': 2, 'Than': 3, 'twenty': 2, 'swords:': 1, 'look': 1, 'sweet,': 1, 'proof': 1, 'against': 1, 'enmity.': 1, 'world': 1, 'saw': 1, \"night's\": 1, 'cloak': 1, 'hide': 1, 'from': 4, 'sight;': 1, 'them': 1, 'here:': 1, 'life': 1, 'better': 1, 'ended': 1, 'by': 6, 'hate,': 1, 'death': 1, 'prorogued,': 1, 'wanting': 1, 'love.': 1, 'whose': 1, 'direction': 1, \"found'st\": 1, 'out': 1, 'place?': 1, 'first': 1, 'prompt': 1, 'inquire;': 1, 'lent': 2, 'counsel': 1, 'eyes.': 1, 'pilot;': 1, 'yet,': 1, 'wert': 1, 'vast': 1, 'shore': 1, \"wash'd\": 1, 'farthest': 1, 'sea,': 2, 'adventure': 1, 'such': 2, 'merchandise.': 1, \"know'st\": 1, 'mask': 1, 'Else': 2, 'maiden': 1, 'blush': 1, 'bepaint': 1, 'hast': 1, 'heard': 1, 'to-night': 1, 'Fain': 1, 'dwell': 2, 'form,': 1, 'fain,': 1, 'fain': 1, 'deny': 1, 'spoke:': 1, 'farewell': 1, 'compliment!': 1, 'Dost': 1, 'me?': 1, 'say': 4, \"'Ay,'\": 1, \"swear'st,\": 1, 'mayst': 2, 'prove': 4, 'false;': 1, \"lovers'\": 2, 'perjuries': 1, 'Then': 1, 'say,': 1, 'Jove': 1, 'laughs.': 1, 'gentle': 1, 'dost': 1, 'pronounce': 1, 'faithfully:': 1, 'Or': 1, \"think'st\": 1, 'quickly': 1, 'won,': 1, 'frown': 1, 'perverse': 1, 'nay,': 1, 'woo;': 1, 'else,': 1, 'world.': 2, 'In': 1, 'truth,': 1, 'Montague,': 2, 'fond,': 1, 'therefore': 2, \"'havior\": 1, 'light:': 1, 'But': 4, 'trust': 1, 'gentleman,': 1, 'true': 2, 'cunning': 1, 'strange.': 1, 'should': 2, 'been': 1, 'strange,': 1, 'must': 1, 'confess,': 1, \"overheard'st,\": 1, 'ere': 1, 'was': 1, 'ware,': 1, 'passion:': 1, 'pardon': 1, 'impute': 1, 'yielding': 1, 'Which': 2, 'dark': 1, 'hath': 1, 'discovered.': 1, 'Lady,': 1, 'blessed': 2, 'moon': 1, 'swear': 5, 'tips': 1, 'silver': 1, 'fruit-tree': 1, 'tops--': 1, 'inconstant': 1, 'monthly': 1, 'changes': 1, 'circled': 1, 'orb,': 1, 'Lest': 1, 'likewise': 1, 'variable.': 1, 'by?': 1, 'Do': 1, 'all;': 1, 'wilt,': 1, 'gracious': 1, 'self,': 1, 'god': 1, 'idolatry,': 1, 'believe': 1, \"heart's\": 1, 'love--': 1, 'Well,': 1, 'swear:': 1, 'although': 1, 'joy': 2, 'contract': 1, 'to-night:': 1, 'rash,': 1, 'unadvised,': 1, 'sudden;': 1, 'Too': 2, 'like': 1, 'lightning,': 1, 'cease': 2, 'Ere': 1, 'one': 2, \"'It\": 1, \"lightens.'\": 1, 'Sweet,': 2, 'good': 7, 'night!': 5, 'This': 1, 'bud': 1, \"summer's\": 1, 'ripening': 1, 'breath,': 1, 'May': 1, 'beauteous': 1, 'flower': 1, 'when': 1, 'next': 1, 'meet.': 1, 'Good': 2, 'sweet': 3, 'repose': 1, 'rest': 1, 'Come': 1, 'heart': 1, 'within': 2, 'breast!': 2, 'leave': 2, 'unsatisfied?': 1, 'satisfaction': 1, 'canst': 1, 'to-night?': 1, 'exchange': 1, 'faithful': 1, 'vow': 1, 'mine.': 1, 'gave': 1, 'mine': 1, 'before': 1, 'didst': 1, 'request': 1, 'it:': 1, 'give': 3, 'again.': 3, 'Wouldst': 1, 'withdraw': 1, 'it?': 1, 'purpose,': 1, 'love?': 1, 'frank,': 1, 'wish': 1, 'thing': 1, 'have:': 1, 'bounty': 1, 'boundless': 1, 'deep;': 1, 'have,': 1, 'both': 1, 'infinite.': 1, 'Nurse': 3, 'calls': 2, 'noise': 1, 'within;': 1, 'adieu!': 1, 'Anon,': 1, 'nurse!': 1, 'Sweet': 1, 'true.': 1, 'Stay': 1, 'little,': 1, 'come': 2, 'Exit,': 2, 'blessed,': 1, 'afeard.': 1, 'Being': 1, 'dream,': 1, 'flattering-sweet': 1, 'substantial.': 1, 'Re-enter': 2, 'JULIET,': 2, 'Three': 1, 'words,': 1, 'indeed.': 1, 'bent': 1, 'honourable,': 1, 'Thy': 1, 'purpose': 1, 'marriage,': 1, 'send': 2, 'word': 1, 'to-morrow,': 1, 'procure': 1, 'Where': 1, 'time': 1, 'perform': 1, 'rite;': 1, 'fortunes': 1, 'foot': 1, 'lay': 1, 'follow': 1, 'lord': 1, 'throughout': 1, '[Within]': 2, 'Madam!': 2, 'come,': 1, 'anon.--But': 1, \"mean'st\": 1, 'well,': 1, 'beseech': 1, 'thee--': 1, 'by,': 1, 'come:--': 1, 'suit,': 1, 'grief:': 1, 'To-morrow': 1, 'send.': 1, 'thrive': 1, 'soul--': 1, 'A': 2, 'thousand': 2, 'times': 2, 'worse,': 1, 'want': 1, 'light.': 1, 'Love': 1, 'goes': 1, 'toward': 2, 'schoolboys': 1, 'books,': 1, 'school': 1, 'heavy': 1, 'looks.': 1, 'Retiring': 1, 'Hist!': 1, 'hist!': 1, \"falconer's\": 1, 'voice,': 1, 'lure': 1, 'tassel-gentle': 1, 'again!': 1, 'Bondage': 1, 'hoarse,': 1, 'may': 1, 'aloud;': 1, 'cave': 1, 'where': 1, 'Echo': 1, 'lies,': 1, 'make': 1, 'tongue': 1, 'hoarse': 1, 'mine,': 1, 'repetition': 1, \"Romeo's\": 1, 'name.': 1, 'soul': 1, 'name:': 1, 'silver-sweet': 1, 'sound': 1, 'tongues': 1, 'Like': 2, 'softest': 1, 'music': 1, 'attending': 1, 'ears!': 1, 'dear?': 1, 'At': 2, \"o'clock\": 1, 'to-morrow': 1, 'thee?': 1, 'hour': 1, 'nine.': 1, 'fail:': 1, 'years': 1, 'then.': 1, 'forgot': 1, 'why': 1, 'back.': 1, 'Let': 1, 'stand': 2, 'here': 1, 'remember': 1, 'forget,': 2, 'still': 3, 'Remembering': 1, 'company.': 1, 'stay,': 1, 'Forgetting': 1, 'home': 1, 'this.': 1, 'almost': 1, 'morning;': 1, 'gone:': 1, 'further': 1, \"wanton's\": 1, 'bird;': 1, 'lets': 1, 'hop': 1, 'little': 1, 'poor': 1, 'prisoner': 1, 'his': 2, 'twisted': 1, 'gyves,': 1, 'silk': 1, 'thread': 1, 'plucks': 1, 'loving-jealous': 1, 'liberty.': 1, 'bird.': 1, 'I:': 1, 'Yet': 1, 'much': 1, 'cherishing.': 1, 'parting': 1, 'sorrow,': 1, 'morrow.': 1, 'Exit': 2, 'Sleep': 1, 'eyes,': 1, 'peace': 1, 'sleep': 1, 'peace,': 1, 'rest!': 1, 'Hence': 1, 'ghostly': 1, \"father's\": 1, 'cell,': 1, 'His': 1, 'help': 1, 'crave,': 1, 'hap': 1, 'tell.': 1}\n"
     ]
    }
   ],
   "source": [
    "fhand=open(\"romeo-full.txt\")\n",
    "\n",
    "dic=dict()\n",
    "for line in fhand:\n",
    "    words=line.split()\n",
    "    for word in words:\n",
    "        if word not in dic:\n",
    "            dic[word]=1\n",
    "        else:\n",
    "            dic[word]=dic[word]+1\n",
    "print(dic)"
   ]
  },
  {
   "cell_type": "code",
   "execution_count": 31,
   "id": "dbd87870",
   "metadata": {},
   "outputs": [
    {
     "name": "stdout",
     "output_type": "stream",
     "text": [
      "{'Romeo': 4, 'and': 22, 'Juliet': 2, 'Act': 1, '2,': 1, 'Scene': 1, '2': 1, 'SCENE': 1, 'II.': 1, \"Capulet's\": 1, 'orchard.': 1, 'Enter': 1, 'ROMEO': 27, 'He': 2, 'jests': 1, 'at': 7, 'scars': 1, 'that': 23, 'never': 2, 'felt': 1, 'a': 22, 'wound.': 1, 'JULIET': 28, 'appears': 1, 'above': 6, 'window': 2, 'But,': 1, 'soft!': 1, 'what': 6, 'light': 3, 'through': 2, 'yonder': 2, 'breaks?': 1, 'It': 4, 'is': 21, 'the': 30, 'east,': 1, 'sun.': 1, 'Arise,': 1, 'fair': 4, 'sun,': 1, 'kill': 2, 'envious': 1, 'moon,': 3, 'Who': 2, 'already': 1, 'sick': 2, 'pale': 1, 'with': 6, 'grief,': 1, 'That': 6, 'thou': 29, 'her': 12, 'maid': 1, 'art': 5, 'far': 2, 'more': 8, 'than': 3, 'she:': 1, 'Be': 1, 'not': 17, 'maid,': 1, 'since': 1, 'she': 6, 'envious;': 1, 'Her': 2, 'vestal': 1, 'livery': 1, 'but': 13, 'green': 1, 'And': 20, 'none': 1, 'fools': 1, 'do': 6, 'wear': 1, 'it;': 1, 'cast': 1, 'it': 12, 'off.': 1, 'my': 22, 'lady,': 1, 'O,': 8, 'love!': 1, 'knew': 1, 'were!': 1, 'She': 2, 'speaks': 1, 'yet': 7, 'says': 1, 'nothing:': 1, 'of': 18, 'that?': 1, 'eye': 2, 'discourses;': 1, 'I': 60, 'will': 8, 'answer': 1, 'it.': 2, 'am': 6, 'too': 6, 'bold,': 1, \"'tis\": 2, 'to': 31, 'me': 11, 'speaks:': 2, 'Two': 1, 'fairest': 1, 'stars': 1, 'in': 12, 'all': 5, 'heaven,': 1, 'Having': 1, 'some': 3, 'business,': 1, 'entreat': 1, 'eyes': 4, 'To': 3, 'twinkle': 1, 'their': 6, 'spheres': 1, 'till': 4, 'they': 5, 'return.': 1, 'What': 5, 'if': 7, 'were': 8, 'there,': 2, 'head?': 1, 'The': 4, 'brightness': 1, 'cheek': 3, 'would': 13, 'shame': 1, 'those': 2, 'stars,': 1, 'As': 4, 'daylight': 1, 'doth': 2, 'lamp;': 1, 'heaven': 2, 'Would': 2, 'airy': 2, 'region': 1, 'stream': 1, 'so': 5, 'bright': 2, 'birds': 1, 'sing': 1, 'think': 2, 'night.': 1, 'See,': 1, 'how': 3, 'leans': 1, 'upon': 5, 'hand!': 1, 'glove': 1, 'hand,': 3, 'might': 1, 'touch': 1, 'cheek!': 1, 'Ay': 1, 'me!': 1, 'speak': 4, 'again,': 2, 'angel!': 1, 'for': 10, 'glorious': 1, 'this': 6, 'night,': 5, 'being': 1, \"o'er\": 1, 'head': 1, 'winged': 1, 'messenger': 1, 'Unto': 1, 'white-upturned': 1, 'wondering': 1, 'Of': 2, 'mortals': 1, 'fall': 1, 'back': 3, 'gaze': 1, 'on': 4, 'him': 2, 'When': 1, 'he': 3, 'bestrides': 1, 'lazy-pacing': 1, 'clouds': 1, 'sails': 1, 'bosom': 1, 'air.': 1, 'O': 3, 'Romeo,': 5, 'Romeo!': 2, 'wherefore': 1, 'Romeo?': 1, 'Deny': 1, 'thy': 19, 'father': 1, 'refuse': 1, 'name;': 1, 'Or,': 2, 'wilt': 5, 'not,': 1, 'be': 13, 'sworn': 1, 'love,': 9, \"I'll\": 8, 'no': 6, 'longer': 1, 'Capulet.': 1, '[Aside]': 1, 'Shall': 2, 'hear': 2, 'more,': 1, 'or': 1, 'shall': 4, 'this?': 1, \"'Tis\": 2, 'name': 4, 'enemy;': 1, 'Thou': 3, 'thyself,': 1, 'though': 1, 'Montague.': 1, \"What's\": 2, 'Montague?': 2, 'nor': 4, 'foot,': 1, 'Nor': 1, 'arm,': 1, 'face,': 2, 'any': 4, 'other': 4, 'part': 2, 'Belonging': 1, 'man.': 1, 'name!': 1, 'name?': 1, 'which': 5, 'we': 2, 'call': 2, 'rose': 1, 'By': 6, 'smell': 1, 'as': 8, 'sweet;': 1, 'So': 5, 'would,': 1, \"call'd,\": 1, 'Retain': 1, 'dear': 6, 'perfection': 1, 'owes': 1, 'Without': 1, 'title.': 1, 'doff': 1, 'name,': 2, 'thee': 15, 'Take': 1, 'myself.': 1, 'take': 2, 'word:': 2, 'Call': 1, 'new': 1, 'baptized;': 1, 'Henceforth': 1, 'Romeo.': 1, 'man': 1, 'thus': 1, \"bescreen'd\": 1, 'night': 5, 'stumblest': 1, 'counsel?': 1, 'know': 3, 'tell': 2, 'who': 3, 'am:': 1, 'My': 7, 'saint,': 2, 'hateful': 1, 'myself,': 1, 'Because': 1, 'an': 2, 'enemy': 1, 'thee;': 1, 'Had': 1, 'written,': 1, 'tear': 2, 'word.': 1, 'ears': 1, 'have': 11, 'drunk': 1, 'hundred': 1, 'words': 1, \"tongue's\": 1, 'utterance,': 1, 'sound:': 1, 'Art': 1, 'Neither,': 1, 'either': 1, 'dislike.': 1, 'How': 2, 'camest': 1, 'hither,': 1, 'me,': 4, 'wherefore?': 1, 'orchard': 1, 'walls': 1, 'are': 3, 'high': 1, 'hard': 1, 'climb,': 1, 'place': 1, 'death,': 1, 'considering': 1, 'art,': 1, 'If': 5, 'kinsmen': 2, 'find': 2, 'here.': 2, 'With': 2, \"love's\": 3, 'wings': 1, 'did': 3, \"o'er-perch\": 1, 'these': 2, 'walls;': 1, 'For': 2, 'stony': 1, 'limits': 1, 'cannot': 1, 'hold': 1, 'love': 10, 'out,': 1, 'can': 2, 'dares': 1, 'attempt;': 1, 'Therefore': 1, 'let': 2, 'me.': 1, 'see': 1, 'thee,': 4, 'murder': 1, 'thee.': 2, 'Alack,': 1, 'there': 1, 'lies': 1, 'peril': 1, 'thine': 2, 'Than': 3, 'twenty': 2, 'swords:': 1, 'look': 1, 'sweet,': 1, 'proof': 1, 'against': 1, 'enmity.': 1, 'world': 1, 'saw': 1, \"night's\": 1, 'cloak': 1, 'hide': 1, 'from': 4, 'sight;': 1, 'them': 1, 'here:': 1, 'life': 1, 'better': 1, 'ended': 1, 'by': 6, 'hate,': 1, 'death': 1, 'prorogued,': 1, 'wanting': 1, 'love.': 1, 'whose': 1, 'direction': 1, \"found'st\": 1, 'out': 1, 'place?': 1, 'first': 1, 'prompt': 1, 'inquire;': 1, 'lent': 2, 'counsel': 1, 'eyes.': 1, 'pilot;': 1, 'yet,': 1, 'wert': 1, 'vast': 1, 'shore': 1, \"wash'd\": 1, 'farthest': 1, 'sea,': 2, 'adventure': 1, 'such': 2, 'merchandise.': 1, \"know'st\": 1, 'mask': 1, 'Else': 2, 'maiden': 1, 'blush': 1, 'bepaint': 1, 'hast': 1, 'heard': 1, 'to-night': 1, 'Fain': 1, 'dwell': 2, 'form,': 1, 'fain,': 1, 'fain': 1, 'deny': 1, 'spoke:': 1, 'farewell': 1, 'compliment!': 1, 'Dost': 1, 'me?': 1, 'say': 4, \"'Ay,'\": 1, \"swear'st,\": 1, 'mayst': 2, 'prove': 4, 'false;': 1, \"lovers'\": 2, 'perjuries': 1, 'Then': 1, 'say,': 1, 'Jove': 1, 'laughs.': 1, 'gentle': 1, 'dost': 1, 'pronounce': 1, 'faithfully:': 1, 'Or': 1, \"think'st\": 1, 'quickly': 1, 'won,': 1, 'frown': 1, 'perverse': 1, 'nay,': 1, 'woo;': 1, 'else,': 1, 'world.': 2, 'In': 1, 'truth,': 1, 'Montague,': 2, 'fond,': 1, 'therefore': 2, \"'havior\": 1, 'light:': 1, 'But': 4, 'trust': 1, 'gentleman,': 1, 'true': 2, 'cunning': 1, 'strange.': 1, 'should': 2, 'been': 1, 'strange,': 1, 'must': 1, 'confess,': 1, \"overheard'st,\": 1, 'ere': 1, 'was': 1, 'ware,': 1, 'passion:': 1, 'pardon': 1, 'impute': 1, 'yielding': 1, 'Which': 2, 'dark': 1, 'hath': 1, 'discovered.': 1, 'Lady,': 1, 'blessed': 2, 'moon': 1, 'swear': 5, 'tips': 1, 'silver': 1, 'fruit-tree': 1, 'tops--': 1, 'inconstant': 1, 'monthly': 1, 'changes': 1, 'circled': 1, 'orb,': 1, 'Lest': 1, 'likewise': 1, 'variable.': 1, 'by?': 1, 'Do': 1, 'all;': 1, 'wilt,': 1, 'gracious': 1, 'self,': 1, 'god': 1, 'idolatry,': 1, 'believe': 1, \"heart's\": 1, 'love--': 1, 'Well,': 1, 'swear:': 1, 'although': 1, 'joy': 2, 'contract': 1, 'to-night:': 1, 'rash,': 1, 'unadvised,': 1, 'sudden;': 1, 'Too': 2, 'like': 1, 'lightning,': 1, 'cease': 2, 'Ere': 1, 'one': 2, \"'It\": 1, \"lightens.'\": 1, 'Sweet,': 2, 'good': 7, 'night!': 5, 'This': 1, 'bud': 1, \"summer's\": 1, 'ripening': 1, 'breath,': 1, 'May': 1, 'beauteous': 1, 'flower': 1, 'when': 1, 'next': 1, 'meet.': 1, 'Good': 2, 'sweet': 3, 'repose': 1, 'rest': 1, 'Come': 1, 'heart': 1, 'within': 2, 'breast!': 2, 'leave': 2, 'unsatisfied?': 1, 'satisfaction': 1, 'canst': 1, 'to-night?': 1, 'exchange': 1, 'faithful': 1, 'vow': 1, 'mine.': 1, 'gave': 1, 'mine': 1, 'before': 1, 'didst': 1, 'request': 1, 'it:': 1, 'give': 3, 'again.': 3, 'Wouldst': 1, 'withdraw': 1, 'it?': 1, 'purpose,': 1, 'love?': 1, 'frank,': 1, 'wish': 1, 'thing': 1, 'have:': 1, 'bounty': 1, 'boundless': 1, 'deep;': 1, 'have,': 1, 'both': 1, 'infinite.': 1, 'Nurse': 3, 'calls': 2, 'noise': 1, 'within;': 1, 'adieu!': 1, 'Anon,': 1, 'nurse!': 1, 'Sweet': 1, 'true.': 1, 'Stay': 1, 'little,': 1, 'come': 2, 'Exit,': 2, 'blessed,': 1, 'afeard.': 1, 'Being': 1, 'dream,': 1, 'flattering-sweet': 1, 'substantial.': 1, 'Re-enter': 2, 'JULIET,': 2, 'Three': 1, 'words,': 1, 'indeed.': 1, 'bent': 1, 'honourable,': 1, 'Thy': 1, 'purpose': 1, 'marriage,': 1, 'send': 2, 'word': 1, 'to-morrow,': 1, 'procure': 1, 'Where': 1, 'time': 1, 'perform': 1, 'rite;': 1, 'fortunes': 1, 'foot': 1, 'lay': 1, 'follow': 1, 'lord': 1, 'throughout': 1, '[Within]': 2, 'Madam!': 2, 'come,': 1, 'anon.--But': 1, \"mean'st\": 1, 'well,': 1, 'beseech': 1, 'thee--': 1, 'by,': 1, 'come:--': 1, 'suit,': 1, 'grief:': 1, 'To-morrow': 1, 'send.': 1, 'thrive': 1, 'soul--': 1, 'A': 2, 'thousand': 2, 'times': 2, 'worse,': 1, 'want': 1, 'light.': 1, 'Love': 1, 'goes': 1, 'toward': 2, 'schoolboys': 1, 'books,': 1, 'school': 1, 'heavy': 1, 'looks.': 1, 'Retiring': 1, 'Hist!': 1, 'hist!': 1, \"falconer's\": 1, 'voice,': 1, 'lure': 1, 'tassel-gentle': 1, 'again!': 1, 'Bondage': 1, 'hoarse,': 1, 'may': 1, 'aloud;': 1, 'cave': 1, 'where': 1, 'Echo': 1, 'lies,': 1, 'make': 1, 'tongue': 1, 'hoarse': 1, 'mine,': 1, 'repetition': 1, \"Romeo's\": 1, 'name.': 1, 'soul': 1, 'name:': 1, 'silver-sweet': 1, 'sound': 1, 'tongues': 1, 'Like': 2, 'softest': 1, 'music': 1, 'attending': 1, 'ears!': 1, 'dear?': 1, 'At': 2, \"o'clock\": 1, 'to-morrow': 1, 'thee?': 1, 'hour': 1, 'nine.': 1, 'fail:': 1, 'years': 1, 'then.': 1, 'forgot': 1, 'why': 1, 'back.': 1, 'Let': 1, 'stand': 2, 'here': 1, 'remember': 1, 'forget,': 2, 'still': 3, 'Remembering': 1, 'company.': 1, 'stay,': 1, 'Forgetting': 1, 'home': 1, 'this.': 1, 'almost': 1, 'morning;': 1, 'gone:': 1, 'further': 1, \"wanton's\": 1, 'bird;': 1, 'lets': 1, 'hop': 1, 'little': 1, 'poor': 1, 'prisoner': 1, 'his': 2, 'twisted': 1, 'gyves,': 1, 'silk': 1, 'thread': 1, 'plucks': 1, 'loving-jealous': 1, 'liberty.': 1, 'bird.': 1, 'I:': 1, 'Yet': 1, 'much': 1, 'cherishing.': 1, 'parting': 1, 'sorrow,': 1, 'morrow.': 1, 'Exit': 2, 'Sleep': 1, 'eyes,': 1, 'peace': 1, 'sleep': 1, 'peace,': 1, 'rest!': 1, 'Hence': 1, 'ghostly': 1, \"father's\": 1, 'cell,': 1, 'His': 1, 'help': 1, 'crave,': 1, 'hap': 1, 'tell.': 1}\n"
     ]
    }
   ],
   "source": [
    "#another way\n",
    "fhand=open(\"romeo-full.txt\")\n",
    "\n",
    "dic=dict()\n",
    "for line in fhand:\n",
    "    words=line.split()\n",
    "    for word in words:\n",
    "        dic[word]=dic.get(word,0)+1\n",
    "print(dic)"
   ]
  },
  {
   "cell_type": "code",
   "execution_count": 33,
   "id": "d9baa5e0",
   "metadata": {},
   "outputs": [
    {
     "name": "stdout",
     "output_type": "stream",
     "text": [
      "it 1\n",
      "annie 42\n",
      "jan 100\n"
     ]
    }
   ],
   "source": [
    "counts = { 'it' : 1 , 'annie' : 42, 'jan': 100}\n",
    "for key in counts:\n",
    "  print(key,counts[key])\n"
   ]
  },
  {
   "cell_type": "code",
   "execution_count": 36,
   "id": "9133942f",
   "metadata": {},
   "outputs": [
    {
     "name": "stdout",
     "output_type": "stream",
     "text": [
      "Sorted-->\n",
      "annie 42\n",
      "it 1\n",
      "jan 100\n"
     ]
    }
   ],
   "source": [
    "#sorting\n",
    "counts = { 'it' : 1 , 'annie' : 42, 'jan': 100}\n",
    "lst=list(counts.keys())\n",
    "lst.sort()\n",
    "print(\"Sorted-->\")\n",
    "for key in lst:\n",
    "    print(key,counts[key])"
   ]
  },
  {
   "cell_type": "markdown",
   "id": "0219eb6a",
   "metadata": {},
   "source": [
    "## Text parsing"
   ]
  },
  {
   "cell_type": "code",
   "execution_count": 2,
   "id": "42596f2d",
   "metadata": {},
   "outputs": [
    {
     "data": {
      "text/plain": [
       "'!\"#$%&\\'()*+,-./:;<=>?@[\\\\]^_`{|}~'"
      ]
     },
     "execution_count": 2,
     "metadata": {},
     "output_type": "execute_result"
    }
   ],
   "source": [
    "import string\n",
    "string.punctuation"
   ]
  },
  {
   "cell_type": "code",
   "execution_count": 6,
   "id": "54f2acdc",
   "metadata": {},
   "outputs": [
    {
     "name": "stdout",
     "output_type": "stream",
     "text": [
      "{'romeo': 40, 'and': 42, 'juliet': 32, 'act': 1, '2': 2, 'scene': 2, 'ii': 1, 'capulets': 1, 'orchard': 2, 'enter': 1, 'he': 5, 'jests': 1, 'at': 9, 'scars': 1, 'that': 30, 'never': 2, 'felt': 1, 'a': 24, 'wound': 1, 'appears': 1, 'above': 6, 'window': 2, 'but': 18, 'soft': 1, 'what': 11, 'light': 5, 'through': 2, 'yonder': 2, 'breaks': 1, 'it': 22, 'is': 21, 'the': 34, 'east': 1, 'sun': 2, 'arise': 1, 'fair': 4, 'kill': 2, 'envious': 2, 'moon': 4, 'who': 5, 'already': 1, 'sick': 2, 'pale': 1, 'with': 8, 'grief': 2, 'thou': 32, 'her': 14, 'maid': 2, 'art': 7, 'far': 2, 'more': 9, 'than': 6, 'she': 9, 'be': 14, 'not': 18, 'since': 1, 'vestal': 1, 'livery': 1, 'green': 1, 'none': 1, 'fools': 1, 'do': 7, 'wear': 1, 'cast': 1, 'off': 1, 'my': 29, 'lady': 2, 'o': 11, 'love': 24, 'knew': 1, 'were': 9, 'speaks': 3, 'yet': 9, 'says': 1, 'nothing': 1, 'of': 20, 'eye': 2, 'discourses': 1, 'i': 61, 'will': 8, 'answer': 1, 'am': 7, 'too': 8, 'bold': 1, 'tis': 4, 'to': 34, 'me': 18, 'two': 1, 'fairest': 1, 'stars': 2, 'in': 13, 'all': 6, 'heaven': 3, 'having': 1, 'some': 3, 'business': 1, 'entreat': 1, 'eyes': 6, 'twinkle': 1, 'their': 6, 'spheres': 1, 'till': 4, 'they': 5, 'return': 1, 'if': 12, 'there': 3, 'head': 2, 'brightness': 1, 'cheek': 4, 'would': 16, 'shame': 1, 'those': 2, 'as': 12, 'daylight': 1, 'doth': 2, 'lamp': 1, 'airy': 2, 'region': 1, 'stream': 1, 'so': 10, 'bright': 2, 'birds': 1, 'sing': 1, 'think': 2, 'night': 16, 'see': 2, 'how': 5, 'leans': 1, 'upon': 5, 'hand': 4, 'glove': 1, 'might': 1, 'touch': 1, 'ay': 2, 'speak': 4, 'again': 6, 'angel': 1, 'for': 12, 'glorious': 1, 'this': 9, 'being': 2, 'oer': 1, 'winged': 1, 'messenger': 1, 'unto': 1, 'whiteupturned': 1, 'wondering': 1, 'mortals': 1, 'fall': 1, 'back': 4, 'gaze': 1, 'on': 4, 'him': 2, 'when': 2, 'bestrides': 1, 'lazypacing': 1, 'clouds': 1, 'sails': 1, 'bosom': 1, 'air': 1, 'wherefore': 2, 'deny': 2, 'thy': 20, 'father': 1, 'refuse': 1, 'name': 11, 'or': 4, 'wilt': 6, 'sworn': 1, 'ill': 8, 'no': 6, 'longer': 1, 'capulet': 1, 'aside': 1, 'shall': 6, 'hear': 2, 'enemy': 2, 'thyself': 1, 'though': 1, 'montague': 5, 'whats': 2, 'nor': 5, 'foot': 2, 'arm': 1, 'face': 2, 'any': 4, 'other': 4, 'part': 2, 'belonging': 1, 'man': 2, 'which': 7, 'we': 2, 'call': 3, 'rose': 1, 'by': 14, 'smell': 1, 'sweet': 8, 'calld': 1, 'retain': 1, 'dear': 7, 'perfection': 1, 'owes': 1, 'without': 1, 'title': 1, 'doff': 1, 'thee': 24, 'take': 3, 'myself': 2, 'word': 4, 'new': 1, 'baptized': 1, 'henceforth': 1, 'thus': 1, 'bescreend': 1, 'stumblest': 1, 'counsel': 2, 'know': 3, 'tell': 3, 'saint': 2, 'hateful': 1, 'because': 1, 'an': 2, 'had': 1, 'written': 1, 'tear': 2, 'ears': 2, 'have': 13, 'drunk': 1, 'hundred': 1, 'words': 2, 'tongues': 2, 'utterance': 1, 'sound': 2, 'neither': 1, 'either': 1, 'dislike': 1, 'camest': 1, 'hither': 1, 'walls': 2, 'are': 3, 'high': 1, 'hard': 1, 'climb': 1, 'place': 2, 'death': 2, 'considering': 1, 'kinsmen': 2, 'find': 2, 'here': 4, 'loves': 3, 'wings': 1, 'did': 3, 'oerperch': 1, 'these': 2, 'stony': 1, 'limits': 1, 'cannot': 1, 'hold': 1, 'out': 2, 'can': 2, 'dares': 1, 'attempt': 1, 'therefore': 3, 'let': 3, 'murder': 1, 'alack': 1, 'lies': 2, 'peril': 1, 'thine': 2, 'twenty': 2, 'swords': 1, 'look': 1, 'proof': 1, 'against': 1, 'enmity': 1, 'world': 3, 'saw': 1, 'nights': 1, 'cloak': 1, 'hide': 1, 'from': 4, 'sight': 1, 'them': 1, 'life': 1, 'better': 1, 'ended': 1, 'hate': 1, 'prorogued': 1, 'wanting': 1, 'whose': 1, 'direction': 1, 'foundst': 1, 'first': 1, 'prompt': 1, 'inquire': 1, 'lent': 2, 'pilot': 1, 'wert': 1, 'vast': 1, 'shore': 1, 'washd': 1, 'farthest': 1, 'sea': 2, 'adventure': 1, 'such': 2, 'merchandise': 1, 'knowst': 1, 'mask': 1, 'else': 3, 'maiden': 1, 'blush': 1, 'bepaint': 1, 'hast': 1, 'heard': 1, 'tonight': 3, 'fain': 3, 'dwell': 2, 'form': 1, 'spoke': 1, 'farewell': 1, 'compliment': 1, 'dost': 2, 'say': 5, 'swearst': 1, 'mayst': 2, 'prove': 4, 'false': 1, 'lovers': 2, 'perjuries': 1, 'then': 2, 'jove': 1, 'laughs': 1, 'gentle': 1, 'pronounce': 1, 'faithfully': 1, 'thinkst': 1, 'quickly': 1, 'won': 1, 'frown': 1, 'perverse': 1, 'nay': 1, 'woo': 1, 'truth': 1, 'fond': 1, 'havior': 1, 'trust': 1, 'gentleman': 1, 'true': 3, 'cunning': 1, 'strange': 2, 'should': 2, 'been': 1, 'must': 1, 'confess': 1, 'overheardst': 1, 'ere': 2, 'was': 1, 'ware': 1, 'passion': 1, 'pardon': 1, 'impute': 1, 'yielding': 1, 'dark': 1, 'hath': 1, 'discovered': 1, 'blessed': 3, 'swear': 6, 'tips': 1, 'silver': 1, 'fruittree': 1, 'tops': 1, 'inconstant': 1, 'monthly': 1, 'changes': 1, 'circled': 1, 'orb': 1, 'lest': 1, 'likewise': 1, 'variable': 1, 'gracious': 1, 'self': 1, 'god': 1, 'idolatry': 1, 'believe': 1, 'hearts': 1, 'well': 2, 'although': 1, 'joy': 2, 'contract': 1, 'rash': 1, 'unadvised': 1, 'sudden': 1, 'like': 3, 'lightning': 1, 'cease': 2, 'one': 2, 'lightens': 1, 'good': 9, 'bud': 1, 'summers': 1, 'ripening': 1, 'breath': 1, 'may': 2, 'beauteous': 1, 'flower': 1, 'next': 1, 'meet': 1, 'repose': 1, 'rest': 2, 'come': 5, 'heart': 1, 'within': 5, 'breast': 2, 'leave': 2, 'unsatisfied': 1, 'satisfaction': 1, 'canst': 1, 'exchange': 1, 'faithful': 1, 'vow': 1, 'mine': 3, 'gave': 1, 'before': 1, 'didst': 1, 'request': 1, 'give': 3, 'wouldst': 1, 'withdraw': 1, 'purpose': 2, 'frank': 1, 'wish': 1, 'thing': 1, 'bounty': 1, 'boundless': 1, 'deep': 1, 'both': 1, 'infinite': 1, 'nurse': 4, 'calls': 2, 'noise': 1, 'adieu': 1, 'anon': 1, 'stay': 2, 'little': 2, 'exit': 4, 'afeard': 1, 'dream': 1, 'flatteringsweet': 1, 'substantial': 1, 'reenter': 2, 'three': 1, 'indeed': 1, 'bent': 1, 'honourable': 1, 'marriage': 1, 'send': 3, 'tomorrow': 3, 'procure': 1, 'where': 2, 'time': 1, 'perform': 1, 'rite': 1, 'fortunes': 1, 'lay': 1, 'follow': 1, 'lord': 1, 'throughout': 1, 'madam': 2, 'anonbut': 1, 'meanst': 1, 'beseech': 1, 'suit': 1, 'thrive': 1, 'soul': 2, 'thousand': 2, 'times': 2, 'worse': 1, 'want': 1, 'goes': 1, 'toward': 2, 'schoolboys': 1, 'books': 1, 'school': 1, 'heavy': 1, 'looks': 1, 'retiring': 1, 'hist': 2, 'falconers': 1, 'voice': 1, 'lure': 1, 'tasselgentle': 1, 'bondage': 1, 'hoarse': 2, 'aloud': 1, 'cave': 1, 'echo': 1, 'make': 1, 'tongue': 1, 'repetition': 1, 'romeos': 1, 'silversweet': 1, 'softest': 1, 'music': 1, 'attending': 1, 'oclock': 1, 'hour': 1, 'nine': 1, 'fail': 1, 'years': 1, 'forgot': 1, 'why': 1, 'stand': 2, 'remember': 1, 'forget': 2, 'still': 3, 'remembering': 1, 'company': 1, 'forgetting': 1, 'home': 1, 'almost': 1, 'morning': 1, 'gone': 1, 'further': 1, 'wantons': 1, 'bird': 2, 'lets': 1, 'hop': 1, 'poor': 1, 'prisoner': 1, 'his': 3, 'twisted': 1, 'gyves': 1, 'silk': 1, 'thread': 1, 'plucks': 1, 'lovingjealous': 1, 'liberty': 1, 'much': 1, 'cherishing': 1, 'parting': 1, 'sorrow': 1, 'morrow': 1, 'sleep': 2, 'peace': 2, 'hence': 1, 'ghostly': 1, 'fathers': 1, 'cell': 1, 'help': 1, 'crave': 1, 'hap': 1}\n"
     ]
    }
   ],
   "source": [
    "fhand=open(\"romeo-full.txt\")\n",
    "\n",
    "dic=dict()\n",
    "for line in fhand:\n",
    "    line=line.rstrip()\n",
    "    line=line.lower()\n",
    "    line=line.translate(str.maketrans('','',string.punctuation))\n",
    "    words=line.split()\n",
    "    for word in words:\n",
    "        if word not in dic:\n",
    "            dic[word]=1\n",
    "        else:\n",
    "            dic[word]=dic[word]+1\n",
    "print(dic)"
   ]
  },
  {
   "cell_type": "code",
   "execution_count": 7,
   "id": "39b99d66",
   "metadata": {},
   "outputs": [
    {
     "name": "stdout",
     "output_type": "stream",
     "text": [
      "{'romeo': 40, 'and': 42, 'juliet': 32, 'act': 1, '2': 2, 'scene': 2, 'ii': 1, 'capulets': 1, 'orchard': 2, 'enter': 1, 'he': 5, 'jests': 1, 'at': 9, 'scars': 1, 'that': 30, 'never': 2, 'felt': 1, 'a': 24, 'wound': 1, 'appears': 1, 'above': 6, 'window': 2, 'but': 18, 'soft': 1, 'what': 11, 'light': 5, 'through': 2, 'yonder': 2, 'breaks': 1, 'it': 22, 'is': 21, 'the': 34, 'east': 1, 'sun': 2, 'arise': 1, 'fair': 4, 'kill': 2, 'envious': 2, 'moon': 4, 'who': 5, 'already': 1, 'sick': 2, 'pale': 1, 'with': 8, 'grief': 2, 'thou': 32, 'her': 14, 'maid': 2, 'art': 7, 'far': 2, 'more': 9, 'than': 6, 'she': 9, 'be': 14, 'not': 18, 'since': 1, 'vestal': 1, 'livery': 1, 'green': 1, 'none': 1, 'fools': 1, 'do': 7, 'wear': 1, 'cast': 1, 'off': 1, 'my': 29, 'lady': 2, 'o': 11, 'love': 24, 'knew': 1, 'were': 9, 'speaks': 3, 'yet': 9, 'says': 1, 'nothing': 1, 'of': 20, 'eye': 2, 'discourses': 1, 'i': 61, 'will': 8, 'answer': 1, 'am': 7, 'too': 8, 'bold': 1, 'tis': 4, 'to': 34, 'me': 18, 'two': 1, 'fairest': 1, 'stars': 2, 'in': 13, 'all': 6, 'heaven': 3, 'having': 1, 'some': 3, 'business': 1, 'entreat': 1, 'eyes': 6, 'twinkle': 1, 'their': 6, 'spheres': 1, 'till': 4, 'they': 5, 'return': 1, 'if': 12, 'there': 3, 'head': 2, 'brightness': 1, 'cheek': 4, 'would': 16, 'shame': 1, 'those': 2, 'as': 12, 'daylight': 1, 'doth': 2, 'lamp': 1, 'airy': 2, 'region': 1, 'stream': 1, 'so': 10, 'bright': 2, 'birds': 1, 'sing': 1, 'think': 2, 'night': 16, 'see': 2, 'how': 5, 'leans': 1, 'upon': 5, 'hand': 4, 'glove': 1, 'might': 1, 'touch': 1, 'ay': 2, 'speak': 4, 'again': 6, 'angel': 1, 'for': 12, 'glorious': 1, 'this': 9, 'being': 2, 'oer': 1, 'winged': 1, 'messenger': 1, 'unto': 1, 'whiteupturned': 1, 'wondering': 1, 'mortals': 1, 'fall': 1, 'back': 4, 'gaze': 1, 'on': 4, 'him': 2, 'when': 2, 'bestrides': 1, 'lazypacing': 1, 'clouds': 1, 'sails': 1, 'bosom': 1, 'air': 1, 'wherefore': 2, 'deny': 2, 'thy': 20, 'father': 1, 'refuse': 1, 'name': 11, 'or': 4, 'wilt': 6, 'sworn': 1, 'ill': 8, 'no': 6, 'longer': 1, 'capulet': 1, 'aside': 1, 'shall': 6, 'hear': 2, 'enemy': 2, 'thyself': 1, 'though': 1, 'montague': 5, 'whats': 2, 'nor': 5, 'foot': 2, 'arm': 1, 'face': 2, 'any': 4, 'other': 4, 'part': 2, 'belonging': 1, 'man': 2, 'which': 7, 'we': 2, 'call': 3, 'rose': 1, 'by': 14, 'smell': 1, 'sweet': 8, 'calld': 1, 'retain': 1, 'dear': 7, 'perfection': 1, 'owes': 1, 'without': 1, 'title': 1, 'doff': 1, 'thee': 24, 'take': 3, 'myself': 2, 'word': 4, 'new': 1, 'baptized': 1, 'henceforth': 1, 'thus': 1, 'bescreend': 1, 'stumblest': 1, 'counsel': 2, 'know': 3, 'tell': 3, 'saint': 2, 'hateful': 1, 'because': 1, 'an': 2, 'had': 1, 'written': 1, 'tear': 2, 'ears': 2, 'have': 13, 'drunk': 1, 'hundred': 1, 'words': 2, 'tongues': 2, 'utterance': 1, 'sound': 2, 'neither': 1, 'either': 1, 'dislike': 1, 'camest': 1, 'hither': 1, 'walls': 2, 'are': 3, 'high': 1, 'hard': 1, 'climb': 1, 'place': 2, 'death': 2, 'considering': 1, 'kinsmen': 2, 'find': 2, 'here': 4, 'loves': 3, 'wings': 1, 'did': 3, 'oerperch': 1, 'these': 2, 'stony': 1, 'limits': 1, 'cannot': 1, 'hold': 1, 'out': 2, 'can': 2, 'dares': 1, 'attempt': 1, 'therefore': 3, 'let': 3, 'murder': 1, 'alack': 1, 'lies': 2, 'peril': 1, 'thine': 2, 'twenty': 2, 'swords': 1, 'look': 1, 'proof': 1, 'against': 1, 'enmity': 1, 'world': 3, 'saw': 1, 'nights': 1, 'cloak': 1, 'hide': 1, 'from': 4, 'sight': 1, 'them': 1, 'life': 1, 'better': 1, 'ended': 1, 'hate': 1, 'prorogued': 1, 'wanting': 1, 'whose': 1, 'direction': 1, 'foundst': 1, 'first': 1, 'prompt': 1, 'inquire': 1, 'lent': 2, 'pilot': 1, 'wert': 1, 'vast': 1, 'shore': 1, 'washd': 1, 'farthest': 1, 'sea': 2, 'adventure': 1, 'such': 2, 'merchandise': 1, 'knowst': 1, 'mask': 1, 'else': 3, 'maiden': 1, 'blush': 1, 'bepaint': 1, 'hast': 1, 'heard': 1, 'tonight': 3, 'fain': 3, 'dwell': 2, 'form': 1, 'spoke': 1, 'farewell': 1, 'compliment': 1, 'dost': 2, 'say': 5, 'swearst': 1, 'mayst': 2, 'prove': 4, 'false': 1, 'lovers': 2, 'perjuries': 1, 'then': 2, 'jove': 1, 'laughs': 1, 'gentle': 1, 'pronounce': 1, 'faithfully': 1, 'thinkst': 1, 'quickly': 1, 'won': 1, 'frown': 1, 'perverse': 1, 'nay': 1, 'woo': 1, 'truth': 1, 'fond': 1, 'havior': 1, 'trust': 1, 'gentleman': 1, 'true': 3, 'cunning': 1, 'strange': 2, 'should': 2, 'been': 1, 'must': 1, 'confess': 1, 'overheardst': 1, 'ere': 2, 'was': 1, 'ware': 1, 'passion': 1, 'pardon': 1, 'impute': 1, 'yielding': 1, 'dark': 1, 'hath': 1, 'discovered': 1, 'blessed': 3, 'swear': 6, 'tips': 1, 'silver': 1, 'fruittree': 1, 'tops': 1, 'inconstant': 1, 'monthly': 1, 'changes': 1, 'circled': 1, 'orb': 1, 'lest': 1, 'likewise': 1, 'variable': 1, 'gracious': 1, 'self': 1, 'god': 1, 'idolatry': 1, 'believe': 1, 'hearts': 1, 'well': 2, 'although': 1, 'joy': 2, 'contract': 1, 'rash': 1, 'unadvised': 1, 'sudden': 1, 'like': 3, 'lightning': 1, 'cease': 2, 'one': 2, 'lightens': 1, 'good': 9, 'bud': 1, 'summers': 1, 'ripening': 1, 'breath': 1, 'may': 2, 'beauteous': 1, 'flower': 1, 'next': 1, 'meet': 1, 'repose': 1, 'rest': 2, 'come': 5, 'heart': 1, 'within': 5, 'breast': 2, 'leave': 2, 'unsatisfied': 1, 'satisfaction': 1, 'canst': 1, 'exchange': 1, 'faithful': 1, 'vow': 1, 'mine': 3, 'gave': 1, 'before': 1, 'didst': 1, 'request': 1, 'give': 3, 'wouldst': 1, 'withdraw': 1, 'purpose': 2, 'frank': 1, 'wish': 1, 'thing': 1, 'bounty': 1, 'boundless': 1, 'deep': 1, 'both': 1, 'infinite': 1, 'nurse': 4, 'calls': 2, 'noise': 1, 'adieu': 1, 'anon': 1, 'stay': 2, 'little': 2, 'exit': 4, 'afeard': 1, 'dream': 1, 'flatteringsweet': 1, 'substantial': 1, 'reenter': 2, 'three': 1, 'indeed': 1, 'bent': 1, 'honourable': 1, 'marriage': 1, 'send': 3, 'tomorrow': 3, 'procure': 1, 'where': 2, 'time': 1, 'perform': 1, 'rite': 1, 'fortunes': 1, 'lay': 1, 'follow': 1, 'lord': 1, 'throughout': 1, 'madam': 2, 'anonbut': 1, 'meanst': 1, 'beseech': 1, 'suit': 1, 'thrive': 1, 'soul': 2, 'thousand': 2, 'times': 2, 'worse': 1, 'want': 1, 'goes': 1, 'toward': 2, 'schoolboys': 1, 'books': 1, 'school': 1, 'heavy': 1, 'looks': 1, 'retiring': 1, 'hist': 2, 'falconers': 1, 'voice': 1, 'lure': 1, 'tasselgentle': 1, 'bondage': 1, 'hoarse': 2, 'aloud': 1, 'cave': 1, 'echo': 1, 'make': 1, 'tongue': 1, 'repetition': 1, 'romeos': 1, 'silversweet': 1, 'softest': 1, 'music': 1, 'attending': 1, 'oclock': 1, 'hour': 1, 'nine': 1, 'fail': 1, 'years': 1, 'forgot': 1, 'why': 1, 'stand': 2, 'remember': 1, 'forget': 2, 'still': 3, 'remembering': 1, 'company': 1, 'forgetting': 1, 'home': 1, 'almost': 1, 'morning': 1, 'gone': 1, 'further': 1, 'wantons': 1, 'bird': 2, 'lets': 1, 'hop': 1, 'poor': 1, 'prisoner': 1, 'his': 3, 'twisted': 1, 'gyves': 1, 'silk': 1, 'thread': 1, 'plucks': 1, 'lovingjealous': 1, 'liberty': 1, 'much': 1, 'cherishing': 1, 'parting': 1, 'sorrow': 1, 'morrow': 1, 'sleep': 2, 'peace': 2, 'hence': 1, 'ghostly': 1, 'fathers': 1, 'cell': 1, 'help': 1, 'crave': 1, 'hap': 1}\n"
     ]
    }
   ],
   "source": [
    "fhand=open(\"romeo-full.txt\")\n",
    "\n",
    "dic=dict()\n",
    "for line in fhand:\n",
    "    line=line.rstrip()\n",
    "    line=line.lower()\n",
    "    line=line.translate(str.maketrans('','',string.punctuation))\n",
    "    words=line.split()\n",
    "    for word in words:\n",
    "        dic[word]=dic.get(word,0)+1\n",
    "print(dic)"
   ]
  },
  {
   "cell_type": "code",
   "execution_count": 16,
   "id": "fe5150da",
   "metadata": {},
   "outputs": [
    {
     "name": "stdout",
     "output_type": "stream",
     "text": [
      "[(10, 'a'), (1, 'b'), (22, 'c')]\n",
      "[(22, 'c'), (10, 'a'), (1, 'b')]\n"
     ]
    }
   ],
   "source": [
    "d = {'a':10, 'b':1, 'c':22}\n",
    "l = list()\n",
    "for key, val in d.items():\n",
    "    l.append((val,key))\n",
    "    \n",
    "print(l)\n",
    "l.sort(reverse=True)\n",
    "print(l)"
   ]
  },
  {
   "cell_type": "code",
   "execution_count": 21,
   "id": "6bf0ef72",
   "metadata": {},
   "outputs": [
    {
     "name": "stdout",
     "output_type": "stream",
     "text": [
      "i 61\n",
      "and 42\n",
      "romeo 40\n",
      "to 34\n",
      "the 34\n",
      "thou 32\n",
      "juliet 32\n",
      "that 30\n",
      "my 29\n",
      "thee 24\n"
     ]
    }
   ],
   "source": [
    "fhand=open(\"romeo-full.txt\")\n",
    "dic=dict()\n",
    "for line in fhand:\n",
    "    line=line.rstrip()\n",
    "    line=line.lower()\n",
    "    line=line.translate(str.maketrans('','',string.punctuation))\n",
    "    words=line.split()\n",
    "    for word in words:\n",
    "        if word not in dic:\n",
    "            dic[word]=1\n",
    "        else:\n",
    "            dic[word]+=1\n",
    "\n",
    "lst=list()          \n",
    "for key,val in list(dic.items()):\n",
    "    lst.append((val,key))\n",
    "lst.sort(reverse=True)\n",
    "for key,value in lst[:10]:\n",
    "    print(value,key)\n",
    "    \n",
    "        \n"
   ]
  },
  {
   "cell_type": "code",
   "execution_count": null,
   "id": "0db0d7f8",
   "metadata": {},
   "outputs": [],
   "source": []
  }
 ],
 "metadata": {
  "kernelspec": {
   "display_name": "Python 3 (ipykernel)",
   "language": "python",
   "name": "python3"
  },
  "language_info": {
   "codemirror_mode": {
    "name": "ipython",
    "version": 3
   },
   "file_extension": ".py",
   "mimetype": "text/x-python",
   "name": "python",
   "nbconvert_exporter": "python",
   "pygments_lexer": "ipython3",
   "version": "3.9.12"
  }
 },
 "nbformat": 4,
 "nbformat_minor": 5
}
