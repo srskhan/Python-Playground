{
 "cells": [
  {
   "cell_type": "markdown",
   "id": "4189c301",
   "metadata": {},
   "source": [
    "1. Write a program to prompt the user for hours and rate per hour to compute gross pay. However, the employee who worked above 40 hours give them 1.5 times the hourly rate for individual hours.(session-2)  \n",
    "\n",
    "   Rewrite your pay computation (from Session-02) with time-and-a-half for overtime and create a function called computepay which takes two parameters  \n",
    "   (hours and rate).  \n",
    "\n",
    "   Enter Hours: 45  \n",
    "   Enter Rate: 10  \n",
    "     Pay: 475.0  "
   ]
  },
  {
   "cell_type": "code",
   "execution_count": null,
   "id": "d4e53e87",
   "metadata": {},
   "outputs": [
    {
     "name": "stdout",
     "output_type": "stream",
     "text": [
      "415.0\n"
     ]
    }
   ],
   "source": [
    "def computepay(hours,rate):\n",
    "    if hours<=40:\n",
    "        return hours*rate\n",
    "    else:\n",
    "         return 40*rate+(hours-40)*rate*1.5\n",
    "\n",
    "print(computepay(41,10))"
   ]
  },
  {
   "cell_type": "markdown",
   "id": "a7483349",
   "metadata": {},
   "source": [
    "6. Rewrite the grade program from the previous Session(02) using\n",
    "   a function called computegrade that takes a score as its parameter and returns a grade as a string.\n",
    "\n",
    "   Score Grade  \n",
    "    >= 0.9 A  \n",
    "    >= 0.8 B  \n",
    "    >= 0.7 C  \n",
    "    >= 0.6 D  \n",
    "    < 0.6 F  \n",
    "    ```\n",
    "    Enter score: 0.95  \n",
    "    A  \n",
    "    Enter score: perfect  \n",
    "    Bad score  \n",
    "    Enter score: 10.0  \n",
    "    Bad score  \n",
    "    Enter score: 0.75  \n",
    "    C  \n",
    "    Enter score: 0.5  "
   ]
  },
  {
   "cell_type": "code",
   "execution_count": null,
   "id": "9ae2f751",
   "metadata": {},
   "outputs": [
    {
     "name": "stdout",
     "output_type": "stream",
     "text": [
      "Bad Score\n",
      "Bad Score\n"
     ]
    }
   ],
   "source": [
    "def computegrade(score):\n",
    "    if score<=1 and score>=.9:\n",
    "        return \"A\"\n",
    "    elif score<.9 and score>=.8:\n",
    "        return \"B\"\n",
    "    elif score<.8 and score>=.7:\n",
    "        return \"C\"\n",
    "    elif score<.7 and score>=.6:\n",
    "        return \"D\"\n",
    "    elif score<.6 and score>=0:\n",
    "        return \"F\"\n",
    "    else:\n",
    "        return \"Bad score\"\n",
    "\n",
    "while True:\n",
    "    score= input(\"Enter score: \")\n",
    "    \n",
    "    if score.lower()== 'exit':\n",
    "        break\n",
    "    try:\n",
    "        score= float(score)\n",
    "        print(computegrade(score))\n",
    "    except:\n",
    "        print(\"Bad Score\")\n"
   ]
  },
  {
   "cell_type": "code",
   "execution_count": null,
   "id": "58f89303",
   "metadata": {},
   "outputs": [],
   "source": []
  }
 ],
 "metadata": {
  "kernelspec": {
   "display_name": "base",
   "language": "python",
   "name": "python3"
  },
  "language_info": {
   "codemirror_mode": {
    "name": "ipython",
    "version": 3
   },
   "file_extension": ".py",
   "mimetype": "text/x-python",
   "name": "python",
   "nbconvert_exporter": "python",
   "pygments_lexer": "ipython3",
   "version": "3.13.5"
  }
 },
 "nbformat": 4,
 "nbformat_minor": 5
}
