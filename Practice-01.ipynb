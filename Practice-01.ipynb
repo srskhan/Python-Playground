{
 "cells": [
  {
   "cell_type": "code",
   "execution_count": 4,
   "id": "d68245d8",
   "metadata": {},
   "outputs": [
    {
     "name": "stdout",
     "output_type": "stream",
     "text": [
      "6\n",
      "11\n",
      "14\n",
      "22\n",
      "26\n",
      "28\n",
      "33\n",
      "37\n",
      "48\n"
     ]
    },
    {
     "data": {
      "text/plain": [
       "9"
      ]
     },
     "execution_count": 4,
     "metadata": {},
     "output_type": "execute_result"
    }
   ],
   "source": [
    "numbers = [6, 5, 3, 8, 4, 2, 5, 4, 11]\n",
    "sum = 0\n",
    "for i in range(len(numbers)):\n",
    "  sum = sum + numbers[i]\n",
    "  print(sum)\n",
    "len(numbers)"
   ]
  },
  {
   "cell_type": "code",
   "execution_count": 3,
   "id": "04cfe134",
   "metadata": {},
   "outputs": [
    {
     "name": "stdout",
     "output_type": "stream",
     "text": [
      "Happy New Year: Joseph\n",
      "Happy New Year: Glenn\n",
      "Happy New Year: Sally\n",
      "Done!\n"
     ]
    }
   ],
   "source": [
    "# Program to wish the friends with new year greetings \n",
    "\n",
    "friends = ['Joseph', 'Glenn', 'Sally']\n",
    "\n",
    "for friend in friends:\n",
    "  print('Happy New Year:', friend)\n",
    "  \n",
    "print('Done!')"
   ]
  },
  {
   "cell_type": "code",
   "execution_count": 5,
   "id": "4fb0df5f",
   "metadata": {},
   "outputs": [
    {
     "name": "stdout",
     "output_type": "stream",
     "text": [
      "Loop: 3 3\n",
      "Loop: 41 41\n",
      "Loop: 12 41\n",
      "Loop: 9 41\n",
      "Loop: 74 74\n",
      "Loop: 15 74\n",
      "Largest: 74\n"
     ]
    }
   ],
   "source": [
    "#To find the largest value in a list or sequence, we construct the following loop:\n",
    "\n",
    "numbers = [3, 41, 12, 9, 74, 15]\n",
    "largest= numbers[0]\n",
    "\n",
    "for itervar in numbers:\n",
    "  if itervar > largest :\n",
    "    largest = itervar\n",
    "  print('Loop:', itervar, largest)\n",
    "\n",
    "print('Largest:', largest)"
   ]
  },
  {
   "cell_type": "code",
   "execution_count": 6,
   "id": "fd85ffe3",
   "metadata": {},
   "outputs": [
    {
     "name": "stdout",
     "output_type": "stream",
     "text": [
      "s\n",
      "t\n",
      "r\n",
      "The end\n"
     ]
    }
   ],
   "source": [
    "# Use of break statement inside the loop\n",
    "\n",
    "for val in \"string\":\n",
    "    if val == \"i\":\n",
    "        break\n",
    "    print(val)\n",
    "\n",
    "print(\"The end\")"
   ]
  },
  {
   "cell_type": "code",
   "execution_count": 7,
   "id": "484bf762",
   "metadata": {},
   "outputs": [
    {
     "name": "stdout",
     "output_type": "stream",
     "text": [
      "s\n",
      "t\n",
      "r\n",
      "n\n",
      "g\n",
      "The end\n"
     ]
    }
   ],
   "source": [
    "# Program to show the use of continue statement inside loops\n",
    "\n",
    "for val in \"string\":\n",
    "    if val == \"i\":\n",
    "        continue\n",
    "    print(val)\n",
    "\n",
    "print(\"The end\")"
   ]
  },
  {
   "cell_type": "code",
   "execution_count": 11,
   "id": "fd5d39d1",
   "metadata": {},
   "outputs": [
    {
     "name": "stdout",
     "output_type": "stream",
     "text": [
      "Enter a score: .2\n",
      "Failed\n"
     ]
    }
   ],
   "source": [
    "##  score  1> or str    bad score\n",
    "score = input(\"Enter a score: \")\n",
    "\n",
    "try:\n",
    "  score = float(score)\n",
    "  if score> 0.8:\n",
    "      print(\"Grade A+ \")\n",
    "  elif 0.7<score<0.8:\n",
    "      print(\"Grade B+ \")  \n",
    "  else:\n",
    "      print(\"Failed\")  \n",
    "except:\n",
    "  print(\"Bad Score\")"
   ]
  },
  {
   "cell_type": "code",
   "execution_count": 1,
   "id": "4f7732a0",
   "metadata": {},
   "outputs": [
    {
     "name": "stdout",
     "output_type": "stream",
     "text": [
      "Enter a number: 4\n",
      "Enter a number: 10\n",
      "Enter a number: bob\n",
      "Enter a number: 7\n",
      "Enter a number: 2\n",
      "Enter a number: done\n",
      "Maximum is 2\n",
      "Minimum is 2\n"
     ]
    }
   ],
   "source": [
    "\n",
    "while True:\n",
    "    number=input(\"Enter a number: \")\n",
    "    if number.lower()=='done':\n",
    "        break\n",
    "    else:\n",
    "        try:\n",
    "            largest=max(number)\n",
    "            smallest=min(number)\n",
    "        except:\n",
    "            print(\"Invalid input\")\n",
    "            continue\n",
    "\n",
    "print(\"Maximum is\", largest)\n",
    "print(\"Minimum is\", smallest)"
   ]
  },
  {
   "cell_type": "code",
   "execution_count": 2,
   "id": "abeadb72",
   "metadata": {},
   "outputs": [
    {
     "name": "stdout",
     "output_type": "stream",
     "text": [
      "Enter a number: 6\n",
      "Enter a number: 10\n",
      "Enter a number: bob\n",
      "Invalid input\n",
      "Enter a number: b\n",
      "Invalid input\n",
      "Enter a number: 4\n",
      "Enter a number: 2\n",
      "Enter a number: done\n",
      "Maximum is 10\n",
      "Minimum is 2\n"
     ]
    }
   ],
   "source": [
    "largest = None\n",
    "smallest = None\n",
    "\n",
    "while True:\n",
    "    number = input(\"Enter a number: \")\n",
    "    if number.lower() == 'done':\n",
    "        break\n",
    "    else:\n",
    "        try:\n",
    "            number = int(number)\n",
    "        except:\n",
    "            print(\"Invalid input\")\n",
    "            continue\n",
    "\n",
    "        if largest is None or number > largest:\n",
    "            largest = number\n",
    "\n",
    "        if smallest is None or number < smallest:\n",
    "            smallest = number\n",
    "\n",
    "print(\"Maximum is\", largest)\n",
    "print(\"Minimum is\", smallest)"
   ]
  },
  {
   "cell_type": "code",
   "execution_count": 1,
   "id": "8abc6fd5",
   "metadata": {},
   "outputs": [
    {
     "name": "stdout",
     "output_type": "stream",
     "text": [
      "Python Programming\n"
     ]
    }
   ],
   "source": [
    "print(\"Python Programming\")"
   ]
  },
  {
   "cell_type": "code",
   "execution_count": 3,
   "id": "8af61fd4",
   "metadata": {},
   "outputs": [
    {
     "name": "stdout",
     "output_type": "stream",
     "text": [
      "15\n",
      "13\n",
      "18\n",
      "18 > 15 > 13\n"
     ]
    }
   ],
   "source": [
    "a = int(input(\"\"))\n",
    "b = int(input(\"\"))\n",
    "c = int(input(\"\"))\n",
    "if a>b:\n",
    "    a,b=b,a\n",
    "if a>c:\n",
    "    a,c=c,a\n",
    "if b>c:\n",
    "    b,c=c,a\n",
    "print(c ,'>' ,b ,'>',a)\n"
   ]
  },
  {
   "cell_type": "code",
   "execution_count": 5,
   "id": "1621b59d",
   "metadata": {},
   "outputs": [
    {
     "name": "stdout",
     "output_type": "stream",
     "text": [
      "11\n",
      "16\n",
      "13\n",
      "Ascending order: 11 13 16\n"
     ]
    }
   ],
   "source": [
    "a = int(input(\"\"))\n",
    "b = int(input(\"\"))\n",
    "c = int(input(\"\"))\n",
    "a1= max(a,b,c)\n",
    "a3= min(a,b,c)\n",
    "a2=(a+b+c)-a1-a3\n",
    "print(\"Ascending order:\",a3,a2,a1)"
   ]
  },
  {
   "cell_type": "code",
   "execution_count": 6,
   "id": "0db26cca",
   "metadata": {},
   "outputs": [
    {
     "name": "stdout",
     "output_type": "stream",
     "text": [
      "[2, 3, 5, 7, 11, 13, 17, 19, 23, 29, 31, 37, 41, 43, 47]\n"
     ]
    }
   ],
   "source": [
    "def prime_numbers(start,end):\n",
    "    prime=[]\n",
    "    for num in range(start,end+1):\n",
    "        if num>1:\n",
    "            is_prime =True\n",
    "            for i in range(2,num):\n",
    "                if num%i == 0:\n",
    "                    is_prime = False\n",
    "            if is_prime:\n",
    "                prime.append(num)\n",
    "    return prime\n",
    "print(prime_numbers(0,50))\n",
    "            "
   ]
  },
  {
   "cell_type": "code",
   "execution_count": 11,
   "id": "5589bd2c",
   "metadata": {},
   "outputs": [
    {
     "name": "stdout",
     "output_type": "stream",
     "text": [
      "The lyrics is good!\n"
     ]
    }
   ],
   "source": [
    "s = 'The lyrics is not that poor!'\n",
    "not_pos = s.find(\"not\")\n",
    "poor_pos = s.find(\"poor\")\n",
    "if not_pos<poor_pos:\n",
    "    t = s[not_pos:poor_pos+4]\n",
    "    x = s.replace(t,'good')\n",
    "    print(x)\n",
    "else:\n",
    "    print(s)\n",
    "    "
   ]
  },
  {
   "cell_type": "code",
   "execution_count": 9,
   "id": "14a7cfd8",
   "metadata": {},
   "outputs": [
    {
     "name": "stdout",
     "output_type": "stream",
     "text": [
      "14\n"
     ]
    }
   ],
   "source": [
    "s = 'The lyrics is not that poor!'\n",
    "not_pos = s.find(\"not\")\n",
    "poor_pos = s.find(\"poor\")\n",
    "print(not_pos)"
   ]
  },
  {
   "cell_type": "markdown",
   "id": "9f140315",
   "metadata": {},
   "source": [
    "2. Write a program to prompt for a file name, and then read\n",
    "through the file and look for lines of the form: \n",
    "  ```\n",
    "  X-DSPAM-Confidence: 0.8475\n",
    "```\n",
    "When you encounter a line that starts with “X-DSPAM-Confidence:”\n",
    "pull apart the line to extract the floating-point number on the line.\n",
    "Count these lines and then compute the total of the spam confidence \n",
    "values from these lines. When you reach the end of the file, print out\n",
    "the average spam confidence. (mbox data)"
   ]
  },
  {
   "cell_type": "code",
   "execution_count": null,
   "id": "23b3c081",
   "metadata": {},
   "outputs": [],
   "source": [
    "fhand"
   ]
  }
 ],
 "metadata": {
  "kernelspec": {
   "display_name": "Python 3 (ipykernel)",
   "language": "python",
   "name": "python3"
  },
  "language_info": {
   "codemirror_mode": {
    "name": "ipython",
    "version": 3
   },
   "file_extension": ".py",
   "mimetype": "text/x-python",
   "name": "python",
   "nbconvert_exporter": "python",
   "pygments_lexer": "ipython3",
   "version": "3.9.12"
  },
  "varInspector": {
   "cols": {
    "lenName": 16,
    "lenType": 16,
    "lenVar": 40
   },
   "kernels_config": {
    "python": {
     "delete_cmd_postfix": "",
     "delete_cmd_prefix": "del ",
     "library": "var_list.py",
     "varRefreshCmd": "print(var_dic_list())"
    },
    "r": {
     "delete_cmd_postfix": ") ",
     "delete_cmd_prefix": "rm(",
     "library": "var_list.r",
     "varRefreshCmd": "cat(var_dic_list()) "
    }
   },
   "types_to_exclude": [
    "module",
    "function",
    "builtin_function_or_method",
    "instance",
    "_Feature"
   ],
   "window_display": false
  }
 },
 "nbformat": 4,
 "nbformat_minor": 5
}
