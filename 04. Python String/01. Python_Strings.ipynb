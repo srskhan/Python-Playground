{
 "cells": [
  {
   "cell_type": "markdown",
   "id": "eb1c1dda",
   "metadata": {},
   "source": [
    "1. Take the following Python code that stores a string:  \n",
    "\n",
    "   str = 'X-DSPAM-Confidence:0.8475'   \n",
    "\n",
    "   Use find and string slicing to extract the portion of the string after the colon character    and then use the float function to convert the extracted string into a floating point number."
   ]
  },
  {
   "cell_type": "code",
   "execution_count": 11,
   "id": "d8569e8d",
   "metadata": {},
   "outputs": [
    {
     "name": "stdout",
     "output_type": "stream",
     "text": [
      "18\n",
      "0.8475\n",
      "<class 'str'>\n",
      "0.8475\n",
      "<class 'float'>\n"
     ]
    }
   ],
   "source": [
    "#using find method\n",
    "str = 'X-DSPAM-Confidence:0.8475'\n",
    "\n",
    "col_pos= str.find(\":\")\n",
    "print(col_pos)\n",
    "\n",
    "str_value= str[col_pos+1:]\n",
    "print(str_value)\n",
    "print(type(str_value))\n",
    "\n",
    "f_value=float(str_value)\n",
    "print(f_value)\n",
    "print(type(f_value))"
   ]
  },
  {
   "cell_type": "code",
   "execution_count": 1,
   "id": "dce3a31e",
   "metadata": {},
   "outputs": [
    {
     "name": "stdout",
     "output_type": "stream",
     "text": [
      "['X-DSPAM-Confidence', '0.8475']\n",
      "0.8475\n",
      "<class 'str'>\n",
      "0.8475\n",
      "<class 'float'>\n"
     ]
    }
   ],
   "source": [
    "#using string slicing\n",
    "str = 'X-DSPAM-Confidence:0.8475'\n",
    "\n",
    "col_slice= str.split(\":\")\n",
    "print(col_slice)\n",
    "\n",
    "str_value=col_slice[1]\n",
    "print(str_value)\n",
    "print(type(str_value))\n",
    "\n",
    "\n",
    "float_value=float(str_value)\n",
    "print(float_value)\n",
    "print(type(float_value))"
   ]
  },
  {
   "cell_type": "markdown",
   "id": "8f26f4bd",
   "metadata": {},
   "source": [
    "2. Write a Python program to get a string made of the first 2 and the last 2 chars from a given a string. If the string length is less than 2, return instead of the empty string.  \n",
    "\n",
    "\n",
    "   Sample String : 'w3resource'  \n",
    "   Expected Result : 'w3ce'  \n",
    "   Sample String : 'w3'  \n",
    "   Expected Result : 'w3w3'  \n",
    "   Sample String : ' w'  \n",
    "   Expected Result : Empty String  "
   ]
  },
  {
   "cell_type": "code",
   "execution_count": 1,
   "id": "16a6e870",
   "metadata": {},
   "outputs": [
    {
     "name": "stdout",
     "output_type": "stream",
     "text": [
      "Sample String: w3\n",
      "Expected Result: w3w3\n"
     ]
    }
   ],
   "source": [
    "string=input(\"Sample String: \")\n",
    "\n",
    "if len(string)>=2:\n",
    "    print(\"Expected Result:\",string[0:2]+string[-2:])\n",
    "elif len(string)==2:\n",
    "    print(\"Expected Result:\",string[0:2]+string[0:2])\n",
    "else:\n",
    "    print(\"Empty String\")"
   ]
  },
  {
   "cell_type": "markdown",
   "id": "3a2960ad",
   "metadata": {},
   "source": [
    "3. Write a Python program to add 'ing' at the end of a given string (length should be at least 3). If the given string already ends with 'ing' then add 'ly' instead. If the string length of the given string is less than 3, leave it unchanged. (use endswith)\n",
    "   \n",
    "   Sample String : 'abc'  \n",
    "   Expected Result : 'abcing'    \n",
    "   Sample String : 'string'  \n",
    "   Expected Result : 'stringly'  "
   ]
  },
  {
   "cell_type": "code",
   "execution_count": 33,
   "id": "de1bef54",
   "metadata": {},
   "outputs": [
    {
     "name": "stdout",
     "output_type": "stream",
     "text": [
      "Sample String: ab\n",
      "Result: ab\n"
     ]
    }
   ],
   "source": [
    "string=input(\"Sample String: \")\n",
    "\n",
    "if len(string)>=3 and string[-3:]!= \"ing\":\n",
    "    print(\"Result:\",string+'ing') \n",
    "elif len(string)>=3 and string[-3:]== \"ing\":\n",
    "    print(\"Result: \",string+'ly')\n",
    "else:\n",
    "    print(\"Result:\",string)\n",
    "    "
   ]
  },
  {
   "cell_type": "code",
   "execution_count": 38,
   "id": "30359ad0",
   "metadata": {},
   "outputs": [
    {
     "name": "stdout",
     "output_type": "stream",
     "text": [
      "Sample String: string\n",
      "Result: stringly\n"
     ]
    }
   ],
   "source": [
    "#another method\n",
    "string=input(\"Sample String: \")\n",
    "\n",
    "if len(string)<3:\n",
    "    print(\"Result:\",string)\n",
    "elif string.endswith(\"ing\"):\n",
    "    print(\"Result:\",string+'ly')\n",
    "else:\n",
    "    print(\"Result:\",string+'ing')"
   ]
  },
  {
   "cell_type": "markdown",
   "id": "373d2001",
   "metadata": {},
   "source": [
    "4. Write a Python program to find the first appearance of the substring 'not' and 'poor' from a given string, if 'not' follows the 'poor', replace the whole 'not'...'poor' substring with 'good'. Return the resulting string.  \n",
    "\n",
    "   Sample String : 'The lyrics is not that poor!'\n",
    "   'The lyrics is poor!'  \n",
    "   Expected Result : 'The lyrics is good!'  \n",
    "   'The lyrics is poor!'  "
   ]
  },
  {
   "cell_type": "code",
   "execution_count": 54,
   "id": "c6832426",
   "metadata": {},
   "outputs": [
    {
     "name": "stdout",
     "output_type": "stream",
     "text": [
      "The lyrics is good!\n"
     ]
    }
   ],
   "source": [
    "s = 'The lyrics is not that poor!'\n",
    "not_pos= s.find('not')\n",
    "poor_pos=s.find(\"poor\")\n",
    "if 'not' in s and 'poor' in s:\n",
    "    if not_pos<poor_pos:\n",
    "        t=s[not_pos:poor_pos+4]\n",
    "        x=s.replace(t,'good')\n",
    "        print(x)\n",
    "    else:\n",
    "        print(s)\n"
   ]
  },
  {
   "cell_type": "code",
   "execution_count": null,
   "id": "63476fdc",
   "metadata": {},
   "outputs": [],
   "source": []
  }
 ],
 "metadata": {
  "kernelspec": {
   "display_name": "Python 3 (ipykernel)",
   "language": "python",
   "name": "python3"
  },
  "language_info": {
   "codemirror_mode": {
    "name": "ipython",
    "version": 3
   },
   "file_extension": ".py",
   "mimetype": "text/x-python",
   "name": "python",
   "nbconvert_exporter": "python",
   "pygments_lexer": "ipython3",
   "version": "3.9.12"
  },
  "varInspector": {
   "cols": {
    "lenName": 16,
    "lenType": 16,
    "lenVar": 40
   },
   "kernels_config": {
    "python": {
     "delete_cmd_postfix": "",
     "delete_cmd_prefix": "del ",
     "library": "var_list.py",
     "varRefreshCmd": "print(var_dic_list())"
    },
    "r": {
     "delete_cmd_postfix": ") ",
     "delete_cmd_prefix": "rm(",
     "library": "var_list.r",
     "varRefreshCmd": "cat(var_dic_list()) "
    }
   },
   "types_to_exclude": [
    "module",
    "function",
    "builtin_function_or_method",
    "instance",
    "_Feature"
   ],
   "window_display": false
  }
 },
 "nbformat": 4,
 "nbformat_minor": 5
}
