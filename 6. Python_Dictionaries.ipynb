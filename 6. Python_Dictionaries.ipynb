{
 "cells": [
  {
   "cell_type": "markdown",
   "id": "d8d882aa",
   "metadata": {},
   "source": [
    "1. Write a program that categorizes each mail message by\n",
    "which day of the week the commit was done. To do this look for lines\n",
    "that start with “From”, then look for the third word and keep a running\n",
    "count of each of the days of the week. At the end of the program print\n",
    "out the contents of your dictionary (order does not matter).\n",
    "\n",
    "  **Sample Line:**\n",
    "  ```\n",
    "  From stephen.marquard@uct.ac.za Sat Jan 5 09:14:16 2008\n",
    "  ```\n",
    "  **Sample Execution:**\n",
    "  ```\n",
    "  Enter a file name: mbox-short.txt\n",
    "  {'Fri': 20, 'Thu': 6, 'Sat': 1}\n",
    "  ```"
   ]
  },
  {
   "cell_type": "code",
   "execution_count": 1,
   "id": "8a0f1a27",
   "metadata": {},
   "outputs": [
    {
     "name": "stdout",
     "output_type": "stream",
     "text": [
      "--2023-04-15 15:57:02--  https://www.py4e.com/code3/mbox-short.txt\n",
      "Resolving www.py4e.com (www.py4e.com)... 172.67.133.177, 104.21.5.179\n",
      "Connecting to www.py4e.com (www.py4e.com)|172.67.133.177|:443... connected.\n",
      "HTTP request sent, awaiting response... 200 OK\n",
      "Length: unspecified [text/plain]\n",
      "Saving to: ‘mbox-short.txt.1’\n",
      "\n",
      "mbox-short.txt.1        [ <=>                ]  92.41K  --.-KB/s    in 0.02s   \n",
      "\n",
      "2023-04-15 15:57:04 (4.67 MB/s) - ‘mbox-short.txt.1’ saved [94626]\n",
      "\n"
     ]
    }
   ],
   "source": [
    "#download the text file\n",
    "!wget https://www.py4e.com/code3/mbox-short.txt"
   ]
  },
  {
   "cell_type": "code",
   "execution_count": 11,
   "id": "2404d036",
   "metadata": {},
   "outputs": [
    {
     "name": "stdout",
     "output_type": "stream",
     "text": [
      "Enter the file name: mbox-short.txt\n",
      "{'Sat': 1, 'Fri': 20, 'Thu': 6}\n"
     ]
    }
   ],
   "source": [
    "fname = input('Enter the file name: ')\n",
    "try:\n",
    "  fhand = open(fname)\n",
    "except:\n",
    "  print('File cannot be opened:', fname)\n",
    "  exit()\n",
    "d= dict() \n",
    "for line in fhand:\n",
    "    line=line.rstrip()\n",
    "    if line.startswith(\"From \"):\n",
    "        line=line.split()\n",
    "        days = line[2]\n",
    "        if days not in d:\n",
    "            d[days]=1\n",
    "        else:\n",
    "            d[days]+=1\n",
    "print(d)"
   ]
  },
  {
   "cell_type": "markdown",
   "id": "a063149d",
   "metadata": {},
   "source": [
    "2. Write a program to read through a mail log, build a histogram using a dictionary to count how many messages have come from\n",
    "each email address, and print the dictionary.\n",
    "  ```\n",
    "  Enter file name: mbox-short.txt\n",
    "{'gopal.ramasammycook@gmail.com': 1, 'louis@media.berkeley.edu': 3,\n",
    "'cwen@iupui.edu': 5, 'antranig@caret.cam.ac.uk': 1,\n",
    "'rjlowe@iupui.edu': 2, 'gsilver@umich.edu': 3,\n",
    "'david.horwitz@uct.ac.za': 4, 'wagnermr@iupui.edu': 1,\n",
    "'zqian@umich.edu': 4, 'stephen.marquard@uct.ac.za': 2,\n",
    "'ray@media.berkeley.edu': 1}\n",
    "```"
   ]
  },
  {
   "cell_type": "code",
   "execution_count": 11,
   "id": "12ef2045",
   "metadata": {},
   "outputs": [
    {
     "name": "stdout",
     "output_type": "stream",
     "text": [
      "Enter the file name: mbox-short.txt\n",
      "{'stephen.marquard@uct.ac.za': 2, 'louis@media.berkeley.edu': 3, 'zqian@umich.edu': 4, 'rjlowe@iupui.edu': 2, 'cwen@iupui.edu': 5, 'gsilver@umich.edu': 3, 'wagnermr@iupui.edu': 1, 'antranig@caret.cam.ac.uk': 1, 'gopal.ramasammycook@gmail.com': 1, 'david.horwitz@uct.ac.za': 4, 'ray@media.berkeley.edu': 1}\n"
     ]
    }
   ],
   "source": [
    "#fhand = open(\"mbox-short.txt\")\n",
    "\n",
    "fname = input('Enter the file name: ')\n",
    "try:\n",
    "  fhand = open(fname)\n",
    "except:\n",
    "  print('File cannot be opened:', fname)\n",
    "  exit()\n",
    "email_dic= dict()\n",
    "\n",
    "for line in fhand:\n",
    "    line=line.rstrip()\n",
    "    if line.startswith(\"From \"):\n",
    "        line=line.split()\n",
    "        emails=line[1]\n",
    "        if emails not in email_dic:\n",
    "            email_dic[emails]=1\n",
    "        else:\n",
    "            email_dic[emails]+=1\n",
    "print(email_dic)"
   ]
  },
  {
   "cell_type": "markdown",
   "id": "1f6ba61e",
   "metadata": {},
   "source": [
    "3. Add code to the above program to figure out who has the\n",
    "most messages in the file. After all the data has been read and the dictionary has been created, look through the dictionary using a maximum\n",
    "loop to find who has the most messages and print how many messages the person has.\n",
    "\n",
    "  ```\n",
    "  Enter a file name: mbox-short.txt\n",
    "  cwen@iupui.edu 5\n",
    "  Enter a file name: mbox.txt\n",
    "  zqian@umich.edu 195\n",
    "\n",
    "  ```"
   ]
  },
  {
   "cell_type": "code",
   "execution_count": 12,
   "id": "e2793c05",
   "metadata": {},
   "outputs": [
    {
     "name": "stdout",
     "output_type": "stream",
     "text": [
      "Enter the file name: mbox-short.txt\n",
      "cwen@iupui.edu 5\n"
     ]
    }
   ],
   "source": [
    "#fhand = open(\"mbox-short.txt\")\n",
    "fname = input('Enter the file name: ')\n",
    "try:\n",
    "  fhand = open(fname)\n",
    "except:\n",
    "  print('File cannot be opened:', fname)\n",
    "  exit()\n",
    "email_dic= dict()\n",
    "\n",
    "for line in fhand:\n",
    "    line=line.rstrip()\n",
    "    if line.startswith(\"From \"):\n",
    "        line=line.split()\n",
    "        emails=line[1]\n",
    "        if emails not in email_dic:\n",
    "            email_dic[emails]=1\n",
    "        else:\n",
    "            email_dic[emails]+=1\n",
    "\n",
    "lst= list()\n",
    "for key,val in list(email_dic.items()):\n",
    "    lst.append((val,key))\n",
    "lst.sort(reverse=True)\n",
    "for key,val in lst[:1]:\n",
    "    print(val,key)"
   ]
  },
  {
   "cell_type": "markdown",
   "id": "1d3cb66d",
   "metadata": {},
   "source": [
    "4. This program records the domain name (instead of the\n",
    "address) where the message was sent from instead of who the mail came\n",
    "from (i.e., the whole email address). At the end of the program, print\n",
    "out the contents of your dictionary.\n",
    "\n",
    "  ```\n",
    "  Enter a file name: mbox-short.txt\n",
    "  {'media.berkeley.edu': 4, 'uct.ac.za': 6, 'umich.edu': 7,\n",
    "  'gmail.com': 1, 'caret.cam.ac.uk': 1, 'iupui.edu': 8}\n",
    "  ```"
   ]
  },
  {
   "cell_type": "code",
   "execution_count": 15,
   "id": "276562eb",
   "metadata": {},
   "outputs": [
    {
     "name": "stdout",
     "output_type": "stream",
     "text": [
      "Enter the file name: mbox-short.txt\n",
      "{'uct.ac.za': 6, 'media.berkeley.edu': 4, 'umich.edu': 7, 'iupui.edu': 8, 'caret.cam.ac.uk': 1, 'gmail.com': 1}\n"
     ]
    }
   ],
   "source": [
    "#fhand = open(\"mbox-short.txt\")\n",
    "fname = input(\"Enter the file name: \")\n",
    "try:\n",
    "    fhand = open(fname)\n",
    "except:\n",
    "    print(\"File cannot be opened: \",fname)\n",
    "    exit()\n",
    "e_count= dict()\n",
    "\n",
    "for line in fhand:\n",
    "    line= line.rstrip()\n",
    "    if line.startswith(\"From \"):\n",
    "        line= line.split()\n",
    "        email= line[1]\n",
    "        domain= email.split(\"@\")[1]\n",
    "        if domain not in e_count:\n",
    "            e_count[domain]=1\n",
    "        else:\n",
    "            e_count[domain]+=1\n",
    "print(e_count)"
   ]
  },
  {
   "cell_type": "markdown",
   "id": "fcb6badf",
   "metadata": {},
   "source": [
    "5. Revise a previous program as follows: Read and parse the\n",
    "“From” lines and pull out the addresses from the line. Count the number of messages from each person using a dictionary.\n",
    "After all the data has been read, print the person with the most commits\n",
    "by creating a list of (count, email) tuples from the dictionary. Then\n",
    "sort the list in reverse order and print out the person who has the most\n",
    "commits.\n",
    "Sample Line:\n",
    "```\n",
    "From stephen.marquard@uct.ac.za Sat Jan 5 09:14:16 2008\n",
    "```\n",
    "```\n",
    "Enter a file name: mbox-short.txt\n",
    "cwen@iupui.edu 5\n",
    "Enter a file name: mbox.txt\n",
    "zqian@umich.edu 195\n",
    "```"
   ]
  },
  {
   "cell_type": "code",
   "execution_count": 4,
   "id": "621602c7",
   "metadata": {},
   "outputs": [
    {
     "name": "stdout",
     "output_type": "stream",
     "text": [
      "Enter the file name: mbox-short.txt\n",
      "cwen@iupui.edu 5\n"
     ]
    }
   ],
   "source": [
    "#code copied from the problem 3\n",
    "#fhand = open(\"mbox-short.txt\")\n",
    "fname = input('Enter the file name: ')\n",
    "try:\n",
    "  fhand = open(fname)\n",
    "except:\n",
    "  print('File cannot be opened:', fname)\n",
    "  exit()\n",
    "email_dic= {}\n",
    "\n",
    "for line in fhand:\n",
    "    line=line.rstrip()\n",
    "    if line.startswith(\"From \"):\n",
    "        line=line.split()\n",
    "        emails=line[1]\n",
    "        if emails not in email_dic:\n",
    "            email_dic[emails]=1\n",
    "        else:\n",
    "            email_dic[emails]+=1\n",
    "\n",
    "lst= list()\n",
    "for key,val in list(email_dic.items()):\n",
    "    lst.append((val,key))\n",
    "lst.sort(reverse=True)\n",
    "for key,val in lst[:1]:\n",
    "    print(val,key)"
   ]
  },
  {
   "cell_type": "code",
   "execution_count": 5,
   "id": "26a12b81",
   "metadata": {},
   "outputs": [
    {
     "name": "stdout",
     "output_type": "stream",
     "text": [
      "Enter a file name: mbox-short.txt\n",
      "cwen@iupui.edu 5\n"
     ]
    }
   ],
   "source": [
    "file_name = input(\"Enter a file name: \")\n",
    "try:\n",
    "    file_handle = open(file_name)\n",
    "except:\n",
    "    print(\"File cannot be opened:\", file_name)\n",
    "    exit()\n",
    "\n",
    "email_count = dict()\n",
    "for line in file_handle:\n",
    "    if line.startswith(\"From \"):\n",
    "        words = line.split()\n",
    "        email = words[1]\n",
    "        email_count[email] = email_count.get(email, 0) + 1\n",
    "\n",
    "email_list = list()\n",
    "for email, count in email_count.items():\n",
    "    email_list.append((count, email))\n",
    "\n",
    "email_list.sort(reverse=True)\n",
    "most_commits = email_list[0]\n",
    "\n",
    "print(most_commits[1], most_commits[0])"
   ]
  },
  {
   "cell_type": "markdown",
   "id": "0545edc7",
   "metadata": {},
   "source": [
    "6. This program counts the distribution of the hour of the day\n",
    "for each of the messages. You can pull the hour from the “From” line\n",
    "by finding the time string and then splitting that string into parts using\n",
    "the colon character. Once you have accumulated the counts for each\n",
    "hour, print out the counts, one per line, sorted by hour as shown below\n",
    "\n",
    "  ```\n",
    "  Enter a file name: mbox-short.txt\n",
    "  04 3\n",
    "  06 1\n",
    "  07 1\n",
    "  09 2\n",
    "  10 3\n",
    "  11 6\n",
    "  14 1\n",
    "  15 2\n",
    "  16 4\n",
    "  17 2\n",
    "  18 1\n",
    "  19 1\n",
    "\n",
    "  ```"
   ]
  },
  {
   "cell_type": "code",
   "execution_count": 3,
   "id": "cf6684a5",
   "metadata": {},
   "outputs": [
    {
     "name": "stdout",
     "output_type": "stream",
     "text": [
      "04 3\n",
      "06 1\n",
      "07 1\n",
      "09 2\n",
      "10 3\n",
      "11 6\n",
      "14 1\n",
      "15 2\n",
      "16 4\n",
      "17 2\n",
      "18 1\n",
      "19 1\n"
     ]
    }
   ],
   "source": [
    "fhand = open(\"mbox-short.txt\")\n",
    "hour_count={}\n",
    "\n",
    "for line in fhand:\n",
    "    if line.startswith(\"From \"):\n",
    "        line = line.rstrip()\n",
    "        line = line.split()\n",
    "        time=line[5]\n",
    "        hour=time.split(\":\")[0]\n",
    "        if hour not in hour_count:\n",
    "            hour_count[hour]=1\n",
    "        else:\n",
    "            hour_count[hour]+=1\n",
    "\n",
    "\n",
    "lst = list()\n",
    "for hour, count in hour_count.items():\n",
    "    lst.append((hour, count))\n",
    "\n",
    "lst.sort()\n",
    "\n",
    "for hour, count in lst:\n",
    "    print(hour, count)"
   ]
  },
  {
   "cell_type": "code",
   "execution_count": null,
   "id": "ae69f106",
   "metadata": {},
   "outputs": [],
   "source": []
  }
 ],
 "metadata": {
  "kernelspec": {
   "display_name": "Python 3.9 (tensorflow)",
   "language": "python",
   "name": "tensorflow"
  },
  "language_info": {
   "codemirror_mode": {
    "name": "ipython",
    "version": 3
   },
   "file_extension": ".py",
   "mimetype": "text/x-python",
   "name": "python",
   "nbconvert_exporter": "python",
   "pygments_lexer": "ipython3",
   "version": "3.9.15"
  },
  "varInspector": {
   "cols": {
    "lenName": 16,
    "lenType": 16,
    "lenVar": 40
   },
   "kernels_config": {
    "python": {
     "delete_cmd_postfix": "",
     "delete_cmd_prefix": "del ",
     "library": "var_list.py",
     "varRefreshCmd": "print(var_dic_list())"
    },
    "r": {
     "delete_cmd_postfix": ") ",
     "delete_cmd_prefix": "rm(",
     "library": "var_list.r",
     "varRefreshCmd": "cat(var_dic_list()) "
    }
   },
   "types_to_exclude": [
    "module",
    "function",
    "builtin_function_or_method",
    "instance",
    "_Feature"
   ],
   "window_display": false
  }
 },
 "nbformat": 4,
 "nbformat_minor": 5
}
