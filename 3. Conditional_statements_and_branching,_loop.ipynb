{
 "cells": [
  {
   "cell_type": "markdown",
   "id": "8489ce94",
   "metadata": {},
   "source": [
    "1. Write a program which repeatedly reads numbers until the user enters “done”. Once “done” is entered, print out the total, count, and average of the numbers. If the user enters anything other than a number, detect their mistake using try and except and print an error message and skip to the next number.\n",
    "       Enter a number: 4\n",
    "       Enter a number: 5\n",
    "       Enter a number: bad data\n",
    "       Invalid input\n",
    "       Enter a number: 7\n",
    "       Enter a number: done\n",
    "       16 3 5.333333333333333"
   ]
  },
  {
   "cell_type": "code",
   "execution_count": 9,
   "id": "f0b332f5",
   "metadata": {},
   "outputs": [
    {
     "name": "stdout",
     "output_type": "stream",
     "text": [
      "Enter a number: 4\n",
      "Enter a number: 5\n",
      "Enter a number: bad data\n",
      "Invalid number\n",
      "Enter a number: 7\n",
      "Enter a number: done\n",
      "16 3 5.333333333333333\n"
     ]
    }
   ],
   "source": [
    "total=0\n",
    "count=0\n",
    "average=0\n",
    "\n",
    "while True:\n",
    "    number=input(\"Enter a number: \")\n",
    "    if number.lower()=='done':\n",
    "        break\n",
    "    else:\n",
    "        try:\n",
    "            num=int(number)\n",
    "            total+=num\n",
    "            count+=1\n",
    "            average=total/count\n",
    "        except:\n",
    "            print(\"Invalid number\")\n",
    "            continue\n",
    "print(total,count,average)"
   ]
  },
  {
   "cell_type": "markdown",
   "id": "3d580629",
   "metadata": {},
   "source": [
    "2. Write a program to prompt for a score between `0.0` and `1.0`. If the score is out of range, print an error message. If the score is\n",
    "between `0.0` and `1.0`, print a grade using the following table:\n",
    "```\n",
    "Score Grade\n",
    ">= 0.9 A\n",
    ">= 0.8 B\n",
    ">= 0.7 C\n",
    ">= 0.6 D\n",
    "< 0.6  F\n",
    "```\n",
    "```\n",
    "          Enter score: 0.95\n",
    "          A\n",
    "          Enter score: perfect\n",
    "          Bad score\n",
    "          Enter score: 10.0\n",
    "          Bad score\n",
    "          Enter score: 0.75\n",
    "          C\n",
    "          Enter score: 0.5\n",
    "          F"
   ]
  },
  {
   "cell_type": "code",
   "execution_count": 1,
   "id": "d3e2e103",
   "metadata": {},
   "outputs": [
    {
     "name": "stdout",
     "output_type": "stream",
     "text": [
      "Enter grade: 2\n",
      "Bad data\n"
     ]
    }
   ],
   "source": [
    "g=input(\"Enter grade: \")\n",
    "\n",
    "try:\n",
    "    grade=float(g)\n",
    "    if grade<=1 and grade>=.9:\n",
    "        print(\"A\")\n",
    "    elif grade<.9 and grade>=.8:\n",
    "        print(\"B\")\n",
    "    elif grade<.8 and grade>=.7:\n",
    "        print(\"C\")\n",
    "    elif grade<.7 and grade>=.6:\n",
    "        print(\"D\")\n",
    "    elif grade<.6 and grade>=0:\n",
    "        print(\"F\")\n",
    "    else:\n",
    "        print(\"Bad data\")\n",
    "except:\n",
    "    print(\"Bad data\")"
   ]
  },
  {
   "cell_type": "markdown",
   "id": "793dfae9",
   "metadata": {},
   "source": [
    "3. Write a Python program to find those numbers which are divisible by 7 and multiple of 5, between 1500 and 2700 (both included)."
   ]
  },
  {
   "cell_type": "code",
   "execution_count": 3,
   "id": "3dfe9b40",
   "metadata": {},
   "outputs": [
    {
     "name": "stdout",
     "output_type": "stream",
     "text": [
      "[1505, 1540, 1575, 1610, 1645, 1680, 1715, 1750, 1785, 1820, 1855, 1890, 1925, 1960, 1995, 2030, 2065, 2100, 2135, 2170, 2205, 2240, 2275, 2310, 2345, 2380, 2415, 2450, 2485, 2520, 2555, 2590, 2625, 2660, 2695]\n"
     ]
    }
   ],
   "source": [
    "number=[]\n",
    "for num in range(1500,2701):\n",
    "    if num%7==0 and num%5==0:\n",
    "        number.append(num)\n",
    "print(number)"
   ]
  },
  {
   "cell_type": "code",
   "execution_count": 19,
   "id": "cec4da23",
   "metadata": {},
   "outputs": [
    {
     "name": "stdout",
     "output_type": "stream",
     "text": [
      "[1505, 1540, 1575, 1610, 1645, 1680, 1715, 1750, 1785, 1820, 1855, 1890, 1925, 1960, 1995, 2030, 2065, 2100, 2135, 2170, 2205, 2240, 2275, 2310, 2345, 2380, 2415, 2450, 2485, 2520, 2555, 2590, 2625, 2660, 2695]\n"
     ]
    }
   ],
   "source": [
    "#using list comprehension\n",
    "\n",
    "number= [num for num in range(1500,2701) if num%7==0 and num%5==0]\n",
    "print(number)"
   ]
  },
  {
   "cell_type": "markdown",
   "id": "56affa15",
   "metadata": {},
   "source": [
    "4. Write a Python program to count the number of even and odd numbers from a series of numbers.\n",
    "\n",
    "    Sample numbers : numbers = (1, 2, 3, 4, 5, 6, 7, 8, 9)   \n",
    "    Expected Output :  \n",
    "    Number of even numbers : 5  \n",
    "    Number of odd numbers : 4  "
   ]
  },
  {
   "cell_type": "code",
   "execution_count": 31,
   "id": "67f8aeec",
   "metadata": {},
   "outputs": [
    {
     "name": "stdout",
     "output_type": "stream",
     "text": [
      "Number of even numbers: 4\n",
      "Number of odd numbers: 5\n"
     ]
    }
   ],
   "source": [
    "numbers = (1, 2, 3, 4, 5, 6, 7, 8, 9)\n",
    "even_count=0\n",
    "odd_count=0\n",
    "for num in numbers:\n",
    "    if num%2==0:\n",
    "        even_count+=1\n",
    "    else:\n",
    "        odd_count+=1\n",
    "print(\"Number of even numbers:\",even_count)\n",
    "print(\"Number of odd numbers:\",odd_count)"
   ]
  },
  {
   "cell_type": "code",
   "execution_count": 34,
   "id": "6c90fdc8",
   "metadata": {},
   "outputs": [
    {
     "name": "stdout",
     "output_type": "stream",
     "text": [
      "Number of even numbers: 4\n",
      "Number of odd numbers: 5\n"
     ]
    }
   ],
   "source": [
    "#another way\n",
    "numbers = (1, 2, 3, 4, 5, 6, 7, 8, 9)\n",
    "\n",
    "even_count= len([num for num in numbers if num%2==0])\n",
    "odd_count= len([num for num in numbers if num%2!=0])\n",
    "\n",
    "print(\"Number of even numbers:\",even_count)\n",
    "print(\"Number of odd numbers:\",odd_count)"
   ]
  },
  {
   "cell_type": "markdown",
   "id": "51a45027",
   "metadata": {},
   "source": [
    "5. Write a Python program that prints all the numbers from 0 to 6 except 3 and 6."
   ]
  },
  {
   "cell_type": "code",
   "execution_count": 28,
   "id": "c54ab9ac",
   "metadata": {},
   "outputs": [
    {
     "name": "stdout",
     "output_type": "stream",
     "text": [
      "0\n",
      "1\n",
      "2\n",
      "4\n",
      "5\n"
     ]
    }
   ],
   "source": [
    "for i in range(0,7):\n",
    "    if i==3 or i==6:\n",
    "        continue\n",
    "    print(i)"
   ]
  },
  {
   "cell_type": "markdown",
   "id": "d2d74d0f",
   "metadata": {},
   "source": [
    "6. Write a Python program to get the Fibonacci series between 0 to 50."
   ]
  },
  {
   "cell_type": "code",
   "execution_count": 4,
   "id": "a0a15818",
   "metadata": {},
   "outputs": [
    {
     "name": "stdout",
     "output_type": "stream",
     "text": [
      "[0, 1, 1, 2, 3, 5, 8, 13, 21, 34]\n"
     ]
    }
   ],
   "source": [
    "a=0\n",
    "b=1\n",
    "fib=[]\n",
    "\n",
    "for i in range(51):\n",
    "    fib.append(a)\n",
    "    a,b=b,a+b\n",
    "    if a>50:\n",
    "        break\n",
    "print(fib)\n",
    "    "
   ]
  },
  {
   "cell_type": "code",
   "execution_count": 1,
   "id": "6656150d",
   "metadata": {},
   "outputs": [
    {
     "data": {
      "text/plain": [
       "[0, 1, 1, 2, 3, 5, 8, 13, 21, 34]"
      ]
     },
     "execution_count": 1,
     "metadata": {},
     "output_type": "execute_result"
    }
   ],
   "source": [
    "#another way\n",
    "\n",
    "def fibonacci():\n",
    "    fib=[0,1]\n",
    "    for i in range(2,51):\n",
    "        nxt_fib= fib[i-2]+fib[i-1]\n",
    "        if nxt_fib>50:\n",
    "            break\n",
    "        fib.append(nxt_fib)\n",
    "    return fib    \n",
    "\n",
    "fibonacci()"
   ]
  },
  {
   "cell_type": "markdown",
   "id": "403697bd",
   "metadata": {},
   "source": [
    "7. Write a program to display all prime numbers within a range."
   ]
  },
  {
   "cell_type": "code",
   "execution_count": 71,
   "id": "55654d47",
   "metadata": {},
   "outputs": [
    {
     "name": "stdout",
     "output_type": "stream",
     "text": [
      "[2, 3, 5, 7, 11, 13, 17, 19, 23, 29, 31, 37, 41, 43, 47]\n"
     ]
    }
   ],
   "source": [
    "def prime_numbers(start,end):\n",
    "    prime=[]\n",
    "    for num in range(start,end+1):\n",
    "        if num>1:\n",
    "            is_prime= True\n",
    "            for i in range(2,num):\n",
    "                if(num%i)==0:\n",
    "                    is_prime=False\n",
    "                    break\n",
    "            if is_prime:\n",
    "                prime.append(num)\n",
    "    return prime\n",
    "    \n",
    "print(prime_numbers(0,50))\n",
    "        "
   ]
  },
  {
   "cell_type": "code",
   "execution_count": 77,
   "id": "025b09d6",
   "metadata": {},
   "outputs": [
    {
     "name": "stdout",
     "output_type": "stream",
     "text": [
      "Enter a starting number: 0\n",
      "Enter a ending number: 20\n",
      "Prime number between 0 and 20 is:\n",
      "2\n",
      "3\n",
      "5\n",
      "7\n",
      "11\n",
      "13\n",
      "17\n",
      "19\n"
     ]
    }
   ],
   "source": [
    "def is_prime(num):\n",
    "    if num<2:\n",
    "        return False\n",
    "    for i in range(2, int(num/2)+1):\n",
    "        if num%i==0:\n",
    "            return False\n",
    "    return True\n",
    "\n",
    "start=int(input(\"Enter a starting number: \"))\n",
    "end=int(input(\"Enter a ending number: \"))\n",
    "\n",
    "print(\"Prime number between\",start,\"and\",end,\"is:\")\n",
    "for num in range(start,end+1):\n",
    "    if is_prime(num):\n",
    "        print(num)"
   ]
  },
  {
   "cell_type": "markdown",
   "id": "088ea389",
   "metadata": {},
   "source": [
    "8. Write a program to accept a number from a user and calculate the sum of all numbers from 1 to a given number.\n",
    "          Enter number 10\n",
    "          Sum is:  55"
   ]
  },
  {
   "cell_type": "code",
   "execution_count": 64,
   "id": "ceeaf797",
   "metadata": {},
   "outputs": [
    {
     "name": "stdout",
     "output_type": "stream",
     "text": [
      "Enter a number: 10\n",
      "55\n"
     ]
    }
   ],
   "source": [
    "number=int(input(\"Enter a number: \"))\n",
    "summation=0\n",
    "for num in range(number+1):\n",
    "    summation+=num\n",
    "print(summation)"
   ]
  },
  {
   "cell_type": "code",
   "execution_count": 75,
   "id": "c9fda9be",
   "metadata": {},
   "outputs": [
    {
     "name": "stdout",
     "output_type": "stream",
     "text": [
      "Enter a number: 10\n",
      "Sum is: 55\n"
     ]
    }
   ],
   "source": [
    "num = int(input(\"Enter a number: \"))\n",
    "sum = (num * (num + 1)) // 2\n",
    "\n",
    "print(\"Sum is:\", sum)"
   ]
  },
  {
   "cell_type": "markdown",
   "id": "49d950fc",
   "metadata": {},
   "source": [
    "9. Write a program to check whether a number is perfect or not."
   ]
  },
  {
   "cell_type": "code",
   "execution_count": 4,
   "id": "3a4adc8b",
   "metadata": {},
   "outputs": [
    {
     "name": "stdout",
     "output_type": "stream",
     "text": [
      "Enter a number: 28\n",
      "28 is a perfect number.\n"
     ]
    }
   ],
   "source": [
    "number= int(input('Enter a number: '))\n",
    "divisor=[]\n",
    "for num in range(1,number):\n",
    "    if number%num==0:\n",
    "        divisor.append(num)\n",
    "if sum(divisor)==number:\n",
    "    print(f\"{number} is a perfect number.\")\n",
    "else:\n",
    "    print(f\"{number} is not a perfect number.\")"
   ]
  },
  {
   "cell_type": "markdown",
   "id": "2672385b",
   "metadata": {},
   "source": [
    "9. Write a program to check whether a number is ugly or not."
   ]
  },
  {
   "cell_type": "code",
   "execution_count": 20,
   "id": "badb95bc",
   "metadata": {},
   "outputs": [
    {
     "name": "stdout",
     "output_type": "stream",
     "text": [
      "Enter a number: 30\n",
      "30 is an ugly number.\n"
     ]
    }
   ],
   "source": [
    "def is_ugly(n):\n",
    "  while n > 1:\n",
    "    if n % 2 == 0:\n",
    "      n //= 2\n",
    "    elif n % 3 == 0:\n",
    "      n //= 3\n",
    "    elif n % 5 == 0:\n",
    "      n //= 5\n",
    "    else:\n",
    "      return False\n",
    "\n",
    "  return True\n",
    "\n",
    "number = int(input(\"Enter a number: \"))\n",
    "if is_ugly(number):\n",
    "    print(f\"{number} is an ugly number.\")\n",
    "else:\n",
    "    print(f\"{number} is not an ugly number.\")"
   ]
  },
  {
   "cell_type": "code",
   "execution_count": null,
   "id": "8106d93e",
   "metadata": {},
   "outputs": [],
   "source": []
  }
 ],
 "metadata": {
  "kernelspec": {
   "display_name": "Python 3 (ipykernel)",
   "language": "python",
   "name": "python3"
  },
  "language_info": {
   "codemirror_mode": {
    "name": "ipython",
    "version": 3
   },
   "file_extension": ".py",
   "mimetype": "text/x-python",
   "name": "python",
   "nbconvert_exporter": "python",
   "pygments_lexer": "ipython3",
   "version": "3.9.12"
  },
  "varInspector": {
   "cols": {
    "lenName": 16,
    "lenType": 16,
    "lenVar": 40
   },
   "kernels_config": {
    "python": {
     "delete_cmd_postfix": "",
     "delete_cmd_prefix": "del ",
     "library": "var_list.py",
     "varRefreshCmd": "print(var_dic_list())"
    },
    "r": {
     "delete_cmd_postfix": ") ",
     "delete_cmd_prefix": "rm(",
     "library": "var_list.r",
     "varRefreshCmd": "cat(var_dic_list()) "
    }
   },
   "types_to_exclude": [
    "module",
    "function",
    "builtin_function_or_method",
    "instance",
    "_Feature"
   ],
   "window_display": false
  }
 },
 "nbformat": 4,
 "nbformat_minor": 5
}
