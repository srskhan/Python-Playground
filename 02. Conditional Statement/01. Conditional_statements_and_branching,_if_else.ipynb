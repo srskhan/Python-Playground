{
 "cells": [
  {
   "cell_type": "markdown",
   "id": "20c187e0",
   "metadata": {},
   "source": [
    "1. Write a program to prompt the user for hours and rate per hour to compute gross pay. However, the employee who worked above 40 hours give them 1.5 times the hourly rate for individual hours.\n",
    "\n",
    "       Enter Hours: 45\n",
    "       Enter Rate: 10\n",
    "       Pay: 475.0"
   ]
  },
  {
   "cell_type": "code",
   "execution_count": 1,
   "id": "4e577acd",
   "metadata": {},
   "outputs": [
    {
     "name": "stdout",
     "output_type": "stream",
     "text": [
      "Enter hours: 45\n",
      "Enter Rate: 10\n",
      "Pay:  475.0\n"
     ]
    }
   ],
   "source": [
    "hours=int(input(\"Enter hours: \"))\n",
    "rate=int(input(\"Enter Rate: \"))\n",
    "\n",
    "if hours<=40:\n",
    "    print(\"Pay: \",hours*rate)\n",
    "else:\n",
    "    print(\"Pay: \", 40*rate+(hours-40)*rate*1.5)"
   ]
  },
  {
   "cell_type": "code",
   "execution_count": 1,
   "id": "47b774eb",
   "metadata": {},
   "outputs": [
    {
     "name": "stdout",
     "output_type": "stream",
     "text": [
      "Enter hours: 45\n",
      "Enter Rate: 10\n",
      "Pay:  475.0\n"
     ]
    }
   ],
   "source": [
    "hours=int(input(\"Enter hours: \"))\n",
    "rate=int(input(\"Enter Rate: \"))\n",
    "\n",
    "print(\"Pay: \",hours*rate) if hours<=40 else print(\"Pay: \", 40*rate+(hours-40)*rate*1.5)"
   ]
  },
  {
   "cell_type": "markdown",
   "id": "fd9496cf",
   "metadata": {},
   "source": [
    "2. Write a program to prompt for a score between 0.0 and 1.0. If the score is out of range, print an error message. If the score is between 0.0 and 1.0, print a grade using the following table:\n",
    "\n",
    "Score Grade  \n",
    ">= 0.9 A  \n",
    ">= 0.8 B  \n",
    ">= 0.7 C  \n",
    ">= 0.6 D  \n",
    "< 0.6  F  \n",
    "       Enter score: 0.95  \n",
    "       A  \n",
    "       Enter score: perfect  \n",
    "       Bad score  \n",
    "       Enter score: 10.0  \n",
    "       Bad score  \n",
    "       Enter score: 0.75  \n",
    "       C  \n",
    "       Enter score: 0.5  \n",
    "       F  \n"
   ]
  },
  {
   "cell_type": "code",
   "execution_count": 6,
   "id": "7dae90a8",
   "metadata": {},
   "outputs": [
    {
     "name": "stdout",
     "output_type": "stream",
     "text": [
      "Enter Score: .2\n",
      "F\n"
     ]
    }
   ],
   "source": [
    "score=input(\"Enter Score: \")\n",
    "try:\n",
    "    score=float(score)\n",
    "    if score<=1 and score>=0.9:\n",
    "        print(\"A\")\n",
    "    elif score<.9 and score>= .8:\n",
    "        print(\"B\")\n",
    "    elif score<.8 and score>= .7:\n",
    "        print(\"C\")\n",
    "    elif score<.7 and score>= .6:\n",
    "        print(\"D\")\n",
    "    elif score<.6 and score>= 0:\n",
    "        print(\"F\")\n",
    "    else:\n",
    "        print(\"Bad Score\")\n",
    "except:\n",
    "    print(\"Bad Score\")\n"
   ]
  },
  {
   "cell_type": "markdown",
   "id": "fc12ce12",
   "metadata": {},
   "source": [
    "3. A company decided to give bonus of 5% to employee if his/her year of service is more than 5 years. Ask user for their salary and year of service and print the net bonus amount."
   ]
  },
  {
   "cell_type": "code",
   "execution_count": 3,
   "id": "f6d18b68",
   "metadata": {},
   "outputs": [
    {
     "name": "stdout",
     "output_type": "stream",
     "text": [
      "Salary: 100\n",
      "Year of Services: 5.5\n",
      "Bonus:  5.0\n"
     ]
    }
   ],
   "source": [
    "salray=int(input(\"Salary: \"))\n",
    "service=float(input(\"Year of Services: \"))\n",
    "\n",
    "if salray>5:\n",
    "    print(\"Bonus: \",salray*.05)"
   ]
  },
  {
   "cell_type": "markdown",
   "id": "78f7b831",
   "metadata": {},
   "source": [
    "4. Take values of length and breadth of a rectangle from user and check if it is square or not.."
   ]
  },
  {
   "cell_type": "code",
   "execution_count": 4,
   "id": "444e1143",
   "metadata": {},
   "outputs": [
    {
     "name": "stdout",
     "output_type": "stream",
     "text": [
      "Enter Rectangular Length: 5\n",
      "Enter Rectangular Breadth: 6\n",
      "It is not square\n"
     ]
    }
   ],
   "source": [
    "length=float(input(\"Enter Rectangular Length: \"))\n",
    "breadth = float(input(\"Enter Rectangular Breadth: \"))\n",
    "\n",
    "if length==breadth:\n",
    "    print(\"It is sqare\")\n",
    "else:\n",
    "    print(\"It is not square\")"
   ]
  },
  {
   "cell_type": "markdown",
   "id": "7e46ca3d",
   "metadata": {},
   "source": [
    "5. Take two int values from user and print greatest among them.."
   ]
  },
  {
   "cell_type": "code",
   "execution_count": 6,
   "id": "d6953c96",
   "metadata": {},
   "outputs": [
    {
     "name": "stdout",
     "output_type": "stream",
     "text": [
      "Enter value 1: 10\n",
      "Enter value 2: 11\n",
      "11 is the greatest among them.\n"
     ]
    }
   ],
   "source": [
    "value_1 = int(input(\"Enter value 1: \"))\n",
    "value_2 = int(input(\"Enter value 2: \"))\n",
    "mx = max(value_1,value_2)\n",
    "print(\"{} is the greatest among them.\".format(mx))"
   ]
  },
  {
   "cell_type": "markdown",
   "id": "b3c9f7e0",
   "metadata": {},
   "source": [
    "6. A shop will give discount of 10% if the cost of purchased quantity is more than 1000. Ask user for quantity Suppose, one unit will cost 100. Judge and print total cost for user."
   ]
  },
  {
   "cell_type": "code",
   "execution_count": 13,
   "id": "aab9ceb3",
   "metadata": {},
   "outputs": [
    {
     "name": "stdout",
     "output_type": "stream",
     "text": [
      "Quantity: 20\n",
      "Totol Cost: 1800\n"
     ]
    }
   ],
   "source": [
    "quantity= int(input(\"Quantity: \"))\n",
    "if quantity>10:\n",
    "    print(f'Totol Cost: {quantity*(100-10)}') \n",
    "else:\n",
    "    print(f'Toto Cost: {quantity* 100}') \n"
   ]
  },
  {
   "cell_type": "markdown",
   "id": "c998f43c",
   "metadata": {},
   "source": [
    "7. A school has following rules for grading system:  \n",
    "\n",
    "    a. Below 25 - F  \n",
    "    b. 25 to 45 - E  \n",
    "    c. 45 to 50 - D  \n",
    "    d. 50 to 60 - C  \n",
    "    e. 60 to 80 - B  \n",
    "    f. Above 80 - A   \n",
    "    \n",
    "   Ask user to enter marks and print the corresponding grade."
   ]
  },
  {
   "cell_type": "code",
   "execution_count": 21,
   "id": "2a8ed0e3",
   "metadata": {},
   "outputs": [
    {
     "name": "stdout",
     "output_type": "stream",
     "text": [
      "Enter your marks: 80\n",
      "A\n"
     ]
    }
   ],
   "source": [
    "marks= float(input(\"Enter your marks: \"))\n",
    "\n",
    "if marks>100:\n",
    "    print(\"invalid number\")\n",
    "elif marks >=80:\n",
    "    print(\"A\")\n",
    "elif marks<80 and marks>=60:\n",
    "    print(\"B\")\n",
    "elif marks<60 and marks>=50:\n",
    "    print(\"C\")\n",
    "elif marks<50 and marks>=45:\n",
    "    print(\"D\")\n",
    "elif marks<45 and marks>=25:\n",
    "    print(\"E\")\n",
    "else:\n",
    "    print(\"F\")"
   ]
  },
  {
   "cell_type": "markdown",
   "id": "9db27b55",
   "metadata": {},
   "source": [
    "8. Take input of age of 3 people by user and determine oldest and youngest among them"
   ]
  },
  {
   "cell_type": "code",
   "execution_count": 3,
   "id": "b58ed010",
   "metadata": {},
   "outputs": [
    {
     "name": "stdout",
     "output_type": "stream",
     "text": [
      "Enter age for person one: 20\n",
      "Enter age for person two: 25\n",
      "Enter age for person three: 18\n",
      "Man two is the oldest among them.\n",
      "Man three is the youngest among them.\n"
     ]
    }
   ],
   "source": [
    "man_one=int(input(\"Enter age for person one: \"))\n",
    "man_two=int(input(\"Enter age for person two: \"))\n",
    "man_three= int(input(\"Enter age for person three: \"))\n",
    "\n",
    "if man_one> man_two and man_one>man_three:\n",
    "    print(\"Man one is the oldest among them.\")\n",
    "elif man_two>man_one and man_two>man_three:\n",
    "    print(\"Man two is the oldest among them.\")\n",
    "else:\n",
    "    print(\"Man three is the oldest among them.\")\n",
    "    \n",
    "if man_one< man_two and man_one<man_three:\n",
    "    print(\"Man one is the youngest among them.\")\n",
    "elif man_two<man_one and man_two<man_three:\n",
    "    print(\"Man two is the youngest among them.\")\n",
    "else:\n",
    "    print(\"Man three is the youngest among them.\")\n",
    "\n",
    "    "
   ]
  },
  {
   "cell_type": "code",
   "execution_count": 5,
   "id": "ac0cb559",
   "metadata": {},
   "outputs": [
    {
     "name": "stdout",
     "output_type": "stream",
     "text": [
      "Enter age for person one: 25\n",
      "Enter age for person two: 29\n",
      "Enter age for person three: 32\n",
      "Person with age 32 is the oldest among them\n",
      "Person with age 25 is the youngest among them\n"
     ]
    }
   ],
   "source": [
    "man_one=int(input(\"Enter age for person one: \"))\n",
    "man_two=int(input(\"Enter age for person two: \"))\n",
    "man_three= int(input(\"Enter age for person three: \"))\n",
    "\n",
    "oldest= max(man_one,man_two,man_three)\n",
    "youngest=min(man_one,man_two,man_three)\n",
    "\n",
    "print(f\"Person with age {oldest} is the oldest among them\")\n",
    "print(f\"Person with age {youngest} is the youngest among them\")"
   ]
  },
  {
   "cell_type": "markdown",
   "id": "db3b387f",
   "metadata": {},
   "source": [
    "9. A student will not be allowed to sit in exam if his/her attendence is less than 75%.\n",
    "\n",
    "Take following input from user  \n",
    "Number of classes held  \n",
    "Number of classes attended.  \n",
    "And print percentage of class attended. Is student is allowed to sit in exam or not."
   ]
  },
  {
   "cell_type": "code",
   "execution_count": 4,
   "id": "fcf3e3f0",
   "metadata": {},
   "outputs": [
    {
     "name": "stdout",
     "output_type": "stream",
     "text": [
      "Number of class held: 100\n",
      "Number of class attend: 75\n",
      "You are allowed to sit in the exam.\n",
      "Your class percentage is 75.0%\n"
     ]
    }
   ],
   "source": [
    "class_held = int(input(\"Number of class held: \"))\n",
    "class_attend=int(input(\"Number of class attend: \"))\n",
    "class_percentage = class_attend/class_held\n",
    "if class_percentage>=.75:\n",
    "    print(\"You are allowed to sit in the exam.\")\n",
    "else:\n",
    "    print(\"You are not allowed to sit in the exam.\")\n",
    "print(f\"Your class percentage is {class_percentage*100}%\")"
   ]
  },
  {
   "cell_type": "markdown",
   "id": "f8990123",
   "metadata": {},
   "source": [
    "10. Modify the above question to allow student to sit if he/she has medical cause. Ask user if he/she has medical cause or not ('Y' or 'N') and print accordingly."
   ]
  },
  {
   "cell_type": "code",
   "execution_count": 25,
   "id": "8987a697",
   "metadata": {},
   "outputs": [
    {
     "name": "stdout",
     "output_type": "stream",
     "text": [
      "Number of class held: 100\n",
      "Number of class attend: 50\n",
      "Have you any medical caurse?: Y\n",
      "You are allowed to sit in the exam.\n",
      "Your class percentage is 50.0%\n"
     ]
    }
   ],
   "source": [
    "class_held = int(input(\"Number of class held: \"))\n",
    "class_attend=int(input(\"Number of class attend: \"))\n",
    "class_percentage = class_attend/class_held\n",
    "medical_cause= str(input(\"Have you any medical caurse?: \"))\n",
    "if medical_cause.lower()== \"y\":\n",
    "    print(\"You are allowed to sit in the exam.\")\n",
    "else:\n",
    "    if class_percentage>=.75:\n",
    "        print(\"You are allowed to sit in the exam.\")\n",
    "    else:\n",
    "        print(\"You are not allowed.\")\n",
    "print(f\"Your class percentage is {class_percentage*100}%\")"
   ]
  },
  {
   "cell_type": "markdown",
   "id": "3aaddefd",
   "metadata": {},
   "source": [
    "11. Sort three numbers in ascending and descending order using conditional statements."
   ]
  },
  {
   "cell_type": "code",
   "execution_count": 1,
   "id": "4593cadf",
   "metadata": {},
   "outputs": [
    {
     "name": "stdout",
     "output_type": "stream",
     "text": [
      "10\n",
      "15\n",
      "18\n",
      "10 < 15 < 18\n",
      "18 > 15 > 10\n"
     ]
    }
   ],
   "source": [
    "#Method-1\n",
    "a= input()\n",
    "b= input()\n",
    "c=input()\n",
    "if a>b:\n",
    "    a,b=b,a\n",
    "if a>c:\n",
    "    a,c=c,a\n",
    "if b>c:\n",
    "    b,c=c,b\n",
    "print(a, \"<\", b, \"<\", c)\n",
    "print(c,\">\", b, \">\",a)"
   ]
  },
  {
   "cell_type": "code",
   "execution_count": 34,
   "id": "4aeb2ef8",
   "metadata": {},
   "outputs": [
    {
     "name": "stdout",
     "output_type": "stream",
     "text": [
      "60\n",
      "45\n",
      "50\n",
      "Number in descending order:  60 50 45\n",
      "Number in ascending order:  45 50 60\n"
     ]
    }
   ],
   "source": [
    "#Method-2\n",
    "a=int(input())\n",
    "b=int(input())\n",
    "c=int(input())\n",
    "a1=max(a,b,c)\n",
    "a3=min(a,b,c)\n",
    "a2=(a+b+c)-a1-a3\n",
    "print(\"Number in descending order: \",a1,a2,a3)\n",
    "print(\"Number in ascending order: \",a3,a2,a1)"
   ]
  },
  {
   "cell_type": "code",
   "execution_count": 41,
   "id": "59fd3e56",
   "metadata": {},
   "outputs": [
    {
     "name": "stdout",
     "output_type": "stream",
     "text": [
      "15\n",
      "12\n",
      "11\n",
      "Numbers in ascending order: [11, 12, 15]\n",
      "Numbers in descending order: [15, 12, 11]\n"
     ]
    }
   ],
   "source": [
    "#method-3\n",
    "a=int(input())\n",
    "b=int(input())\n",
    "c=int(input())\n",
    "\n",
    "ascending= sorted([a,b,c]) #sorted() function takes an iterable (such as a list or a tuple). You can pass sorted((a,b,c)) also.\n",
    "descending = sorted([a,b,c], reverse=True)\n",
    "print(\"Numbers in ascending order:\", ascending)\n",
    "print(\"Numbers in descending order:\", descending)"
   ]
  },
  {
   "cell_type": "code",
   "execution_count": null,
   "id": "09c01fc6",
   "metadata": {},
   "outputs": [],
   "source": []
  }
 ],
 "metadata": {
  "kernelspec": {
   "display_name": "Python 3 (ipykernel)",
   "language": "python",
   "name": "python3"
  },
  "language_info": {
   "codemirror_mode": {
    "name": "ipython",
    "version": 3
   },
   "file_extension": ".py",
   "mimetype": "text/x-python",
   "name": "python",
   "nbconvert_exporter": "python",
   "pygments_lexer": "ipython3",
   "version": "3.9.12"
  },
  "varInspector": {
   "cols": {
    "lenName": 16,
    "lenType": 16,
    "lenVar": 40
   },
   "kernels_config": {
    "python": {
     "delete_cmd_postfix": "",
     "delete_cmd_prefix": "del ",
     "library": "var_list.py",
     "varRefreshCmd": "print(var_dic_list())"
    },
    "r": {
     "delete_cmd_postfix": ") ",
     "delete_cmd_prefix": "rm(",
     "library": "var_list.r",
     "varRefreshCmd": "cat(var_dic_list()) "
    }
   },
   "types_to_exclude": [
    "module",
    "function",
    "builtin_function_or_method",
    "instance",
    "_Feature"
   ],
   "window_display": false
  }
 },
 "nbformat": 4,
 "nbformat_minor": 5
}
